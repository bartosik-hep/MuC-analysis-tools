{
 "cells": [
  {
   "cell_type": "code",
   "execution_count": 1,
   "id": "8f4e9587",
   "metadata": {},
   "outputs": [
    {
     "name": "stdout",
     "output_type": "stream",
     "text": [
      "Welcome to JupyROOT 6.22/00\n"
     ]
    }
   ],
   "source": [
    "import os\n",
    "import math\n",
    "import ROOT as R"
   ]
  },
  {
   "cell_type": "code",
   "execution_count": 2,
   "id": "069c2086",
   "metadata": {},
   "outputs": [],
   "source": [
    "R.gStyle.SetOptStat(0)\n",
    "R.gStyle.SetGridColor(14)\n",
    "R.gStyle.SetPadRightMargin(0.05)\n",
    "# R.gStyle.SetPadLeftMargin(0.15)\n",
    "R.gStyle.SetPadTopMargin(0.05)\n",
    "R.gStyle.SetPadLeftMargin(0.12)"
   ]
  },
  {
   "cell_type": "markdown",
   "id": "cadce654",
   "metadata": {},
   "source": [
    "## Calorimeter hits"
   ]
  },
  {
   "cell_type": "code",
   "execution_count": 3,
   "id": "f5cfcc49",
   "metadata": {},
   "outputs": [],
   "source": [
    "DIR_IN = '/Users/nbartosi/cernbox/work/mu_collider/data/mars_fluka_comparison/bib_simhit'\n",
    "FILE_IN = os.path.join(DIR_IN, 'mars15/mumi-1e3x500-26m-lowth-excl_t25ns_n150MeV_calHits.root')\n",
    "file_in = R.TFile(FILE_IN)\n",
    "tree = file_in.Get('tree')"
   ]
  },
  {
   "cell_type": "code",
   "execution_count": 80,
   "id": "769bb032",
   "metadata": {},
   "outputs": [],
   "source": [
    "histos = [R.TH1F('h_{0:d}'.format(i), ';Z origin [cm];BIB particles', 1000, -1000, 1000) for i in range(6)]\n",
    "cmd = 'mcp_bib_vtx_z / 10'\n",
    "sels = [\n",
    "    f'col_id == 0 && side == 0',\n",
    "    f'col_id == 1 && side < 0',\n",
    "    f'col_id == 1 && side > 0',\n",
    "    f'col_id == 2 && side == 0',\n",
    "    f'col_id == 3 && side < 0',\n",
    "    f'col_id == 3 && side > 0',\n",
    "]\n",
    "for ih, h in enumerate(histos):\n",
    "    sel = f'col_id == {ih}'\n",
    "    tree.Draw(f'{cmd} >> h_{ih}', sels[ih])"
   ]
  },
  {
   "cell_type": "code",
   "execution_count": 5,
   "id": "2ee4a057",
   "metadata": {},
   "outputs": [],
   "source": [
    "C = R.TCanvas('c2d', '', 1000, 700)\n",
    "C.SetGrid(1,1)\n",
    "C.SetTopMargin(0.05)\n",
    "C.SetLeftMargin(0.1)\n",
    "C.SetRightMargin(0.05)"
   ]
  },
  {
   "cell_type": "code",
   "execution_count": 84,
   "id": "0395682b",
   "metadata": {},
   "outputs": [
    {
     "data": {
      "image/png": "[encoded data removed]",
      "text/plain": [
       "<IPython.core.display.Image object>"
      ]
     },
     "metadata": {},
     "output_type": "display_data"
    }
   ],
   "source": [
    "colors = [12, R.kAzure+7, 2]\n",
    "leg = R.TLegend(0.2, 0.75, 0.45, 0.95)\n",
    "# HCAL\n",
    "C.SetLogy(True)\n",
    "legs = ['HCAL Barrel', 'HCAL -Endcap ', 'HCAL +Endcap']\n",
    "h_ax = R.TH1F('h_axis', ';Z origin [cm];BIB particles', 400, -1000, 1000)\n",
    "h_ax.SetAxisRange(1e2, 1e5, 'Y')\n",
    "h_ax.SetAxisRange(-450, 450, 'X')\n",
    "h_ax.Draw()\n",
    "for ih, _h in enumerate(histos[3:]):\n",
    "    h = _h.Clone()\n",
    "    h.Rebin(4)\n",
    "    h.SetLineWidth(2)\n",
    "    h.SetLineColor(colors[ih])\n",
    "    leg.AddEntry(h, legs[ih], 'L')\n",
    "    h.Draw('same hist')\n",
    "leg.Draw()\n",
    "C.Draw()\n",
    "C.SaveAs(os.path.join(DIR_IN, 'plots/hcal_bib_vtx_z.pdf'))\n",
    "# ECAL\n",
    "C.SetLogy(True)\n",
    "scale = [1, 1, 1]\n",
    "legs = ['ECAL Barrel', 'ECAL -Endcap', 'ECAL +Endcap']\n",
    "h_ax.SetAxisRange(1e2, 1e7, 'Y')\n",
    "h_ax.SetAxisRange(-300, 300, 'X')\n",
    "h_ax.Draw()\n",
    "leg = R.TLegend(0.65, 0.75, 0.95, 0.95)\n",
    "for ih, _h in enumerate(histos[:3]):\n",
    "    h = _h.Clone()\n",
    "    h.Scale(scale[ih])\n",
    "    h.Rebin(2)\n",
    "    h.SetLineWidth(2)\n",
    "    h.SetLineColor(colors[ih])\n",
    "    leg.AddEntry(h, f'{legs[ih]}', 'L')\n",
    "    h.Draw('same hist')\n",
    "leg.Draw()\n",
    "C.Draw()\n",
    "C.SaveAs(os.path.join(DIR_IN, 'plots/ecal_bib_vtx_z.pdf'))"
   ]
  },
  {
   "cell_type": "markdown",
   "id": "ff58538a",
   "metadata": {},
   "source": [
    "### 2D positions"
   ]
  },
  {
   "cell_type": "code",
   "execution_count": 85,
   "id": "eba39a8c",
   "metadata": {},
   "outputs": [],
   "source": [
    "histos = [R.TH2I('h_{0:d}'.format(i), 'BIB Origin', 10000, -500, 500, 2500, 0, 300) for i in range(6)]\n",
    "histos_pos = [R.TH2I('hp_{0:d}'.format(i), 'Hit position', 10000, -500, 500, 2500, 0, 300) for i in range(6)]\n",
    "cmd = 'mcp_bib_vtx_r/10:mcp_bib_vtx_z/10'\n",
    "cmd_pos = 'pos_r/10:pos_z/10'\n",
    "sels = [\n",
    "    f'col_id == 0 && side == 0',\n",
    "    f'col_id == 1 && side < 0',\n",
    "    f'col_id == 1 && side > 0',\n",
    "    f'col_id == 2 && side == 0',\n",
    "    f'col_id == 3 && side < 0',\n",
    "    f'col_id == 3 && side > 0',\n",
    "]\n",
    "for ih, h in enumerate(histos):\n",
    "    sel = f'col_id == {ih}'\n",
    "    tree.Draw(f'{cmd} >> h_{ih}', sels[ih])\n",
    "    tree.Draw(f'{cmd_pos} >> hp_{ih}', sels[ih])"
   ]
  },
  {
   "cell_type": "code",
   "execution_count": 89,
   "id": "b617f354",
   "metadata": {},
   "outputs": [],
   "source": [
    "C = R.TCanvas('c2d', '', 1500, 1150)\n",
    "C.SetGrid(1,1)\n",
    "C.SetTopMargin(0.05)\n",
    "C.SetLeftMargin(0.1)\n",
    "C.SetRightMargin(0.05)"
   ]
  },
  {
   "cell_type": "code",
   "execution_count": 90,
   "id": "65a688ec",
   "metadata": {},
   "outputs": [],
   "source": [
    "colors = [1, R.kAzure+7, 2]\n",
    "colors_pos = [14, R.kAzure+6, R.kRed-9]\n",
    "markers = [7, 6, 1]\n",
    "leg = R.TLegend(0.4, 0.35, 0.65, 0.55)\n",
    "# HCAL\n",
    "C.SetLogy(False)\n",
    "legs = ['HCAL Barrel', 'HCAL -Endcap ', 'HCAL +Endcap']\n",
    "h_ax = R.TH1F('h_axis', ';Z origin [cm];R origin [cm]', 400, -1000, 1000)\n",
    "h_ax.SetAxisRange(0, 250, 'Y')\n",
    "h_ax.SetAxisRange(-450, 450, 'X')\n",
    "h_ax.Draw()\n",
    "for ih, h in enumerate(histos[3:]):\n",
    "#     h = _h.Clone()\n",
    "#     h.Rebin(2)\n",
    "    h.SetMarkerColor(colors[ih])\n",
    "    h.SetLineColor(colors[ih])\n",
    "    h.SetLineWidth(2)\n",
    "    h.SetMarkerStyle(markers[ih])\n",
    "    leg.AddEntry(h, legs[ih], 'L')\n",
    "    h.Draw('same')\n",
    "for ih, h in enumerate(histos_pos[3:]):\n",
    "    h.SetMarkerColor(colors_pos[ih])\n",
    "    h.SetMarkerStyle(1)\n",
    "    h.Draw('same')\n",
    "leg.Draw()\n",
    "# C.Draw()\n",
    "C.SaveAs(os.path.join(DIR_IN, 'plots/hcal_bib_vtx_rz.png'))\n",
    "# ECAL\n",
    "C.SetLogy(False)\n",
    "legs = ['ECAL Barrel', 'ECAL -Endcap', 'ECAL +Endcap']\n",
    "h_ax.SetAxisRange(0, 180, 'Y')\n",
    "h_ax.SetAxisRange(-300, 300, 'X')\n",
    "h_ax.Draw()\n",
    "leg = R.TLegend(0.35, 0.35, 0.65, 0.55)\n",
    "for ih, h in enumerate(histos[:3]):\n",
    "#     h = _h.Clone()\n",
    "#     h.Rebin(2)\n",
    "    h.SetMarkerColor(colors[ih])\n",
    "    h.SetLineColor(colors[ih])\n",
    "    h.SetLineWidth(2)\n",
    "    h.SetMarkerStyle(markers[ih])\n",
    "    leg.AddEntry(h, f'{legs[ih]}', 'L')\n",
    "    h.Draw('same')\n",
    "for ih, h in enumerate(histos_pos[:3]):\n",
    "    h.SetMarkerColor(colors_pos[ih])\n",
    "    h.SetMarkerStyle(1)\n",
    "    h.Draw('same')\n",
    "leg.Draw()\n",
    "# C.Draw()\n",
    "C.SaveAs(os.path.join(DIR_IN, 'plots/ecal_bib_vtx_rz.png'))"
   ]
  },
  {
   "cell_type": "markdown",
   "id": "9dc0e049",
   "metadata": {},
   "source": [
    "## Tracker hits"
   ]
  },
  {
   "cell_type": "code",
   "execution_count": 100,
   "id": "fcda26ed",
   "metadata": {},
   "outputs": [],
   "source": [
    "DIR_IN = '/Users/nbartosi/cernbox/work/mu_collider/data/mars_fluka_comparison/bib_simhit'\n",
    "FILE_IN = os.path.join(DIR_IN, 'mars15/mumi-1e3x500-26m-lowth-excl_trkHits.root')\n",
    "file_in = R.TFile(FILE_IN)\n",
    "tree = file_in.Get('tree')"
   ]
  },
  {
   "cell_type": "code",
   "execution_count": 151,
   "id": "af440443",
   "metadata": {},
   "outputs": [],
   "source": [
    "histos = [R.TH1F('h_{0:d}'.format(i), ';Z origin [cm];BIB particles', 2000, -400, 400) for i in range(9)]\n",
    "cmd = 'mcp_bib_vtx_z / 10'\n",
    "sels = [\n",
    "    'col_id == 0 && side == 0', 'col_id == 1 && side < 0', 'col_id == 1 && side > 0',\n",
    "    'col_id == 2 && side == 0', 'col_id == 3 && side < 0', 'col_id == 3 && side > 0',\n",
    "    'col_id == 4 && side == 0', 'col_id == 5 && side < 0', 'col_id == 5 && side > 0',\n",
    "]\n",
    "for ih, h in enumerate(histos):\n",
    "    sel = f'mcp_bib_time < 25 && abs(time - time0) < 0.36 && {sels[ih]}'\n",
    "    tree.Draw(f'{cmd} >> h_{ih}', sel)"
   ]
  },
  {
   "cell_type": "code",
   "execution_count": 153,
   "id": "f18f10ae",
   "metadata": {},
   "outputs": [
    {
     "data": {
      "image/png": "[encoded data removed]",
      "text/plain": [
       "<IPython.core.display.Image object>"
      ]
     },
     "metadata": {},
     "output_type": "display_data"
    }
   ],
   "source": [
    "colors = [12, R.kAzure+7, 2]\n",
    "leg = R.TLegend(0.7, 0.75, 0.95, 0.95)\n",
    "# VXD\n",
    "C.SetLogy(False)\n",
    "legs = ['VXD Barrel', 'VXD -Endcap ', 'VXD +Endcap']\n",
    "h_ax = R.TH1F('h_axis', ';Z origin [cm];BIB particles', 400, -200, 200)\n",
    "h_ax.GetYaxis().SetMaxDigits(3)\n",
    "h_ax.SetAxisRange(10, 45e3, 'Y')\n",
    "h_ax.SetAxisRange(-50, 50, 'X')\n",
    "h_ax.Draw()\n",
    "for ih, _h in enumerate(histos[:3]):\n",
    "    h = _h.Clone()\n",
    "    h.Rebin(2)\n",
    "    h.SetLineWidth(2)\n",
    "    h.SetLineColor(colors[ih])\n",
    "    leg.AddEntry(h, legs[ih], 'L')\n",
    "    h.Draw('same hist')\n",
    "leg.Draw()\n",
    "C.Draw()\n",
    "C.SaveAs(os.path.join(DIR_IN, 'plots/vxd_bib_vtx_z.pdf'))\n",
    "# IB\n",
    "C.SetLogy(False)\n",
    "leg.Clear()\n",
    "legs = ['ITK Barrel', 'ITK -Endcap ', 'ITK +Endcap']\n",
    "h_ax = R.TH1F('h_axis', ';Z origin [cm];BIB particles', 400, -200, 200)\n",
    "h_ax.GetYaxis().SetMaxDigits(3)\n",
    "h_ax.SetAxisRange(10, 45e3, 'Y')\n",
    "h_ax.SetAxisRange(-50, 50, 'X')\n",
    "h_ax.Draw()\n",
    "for ih, _h in enumerate(histos[3:6]):\n",
    "    h = _h.Clone()\n",
    "    h.Rebin(2)\n",
    "    h.SetLineWidth(2)\n",
    "    h.SetLineColor(colors[ih])\n",
    "    leg.AddEntry(h, legs[ih], 'L')\n",
    "    h.Draw('same hist')\n",
    "leg.Draw()\n",
    "C.Draw()\n",
    "C.SaveAs(os.path.join(DIR_IN, 'plots/itk_bib_vtx_z.pdf'))\n",
    "# OB\n",
    "C.SetLogy(False)\n",
    "leg.Clear()\n",
    "legs = ['OTK Barrel', 'OTK -Endcap ', 'OTK +Endcap']\n",
    "h_ax = R.TH1F('h_axis', ';Z origin [cm];BIB particles', 400, -200, 200)\n",
    "h_ax.GetYaxis().SetMaxDigits(3)\n",
    "h_ax.SetAxisRange(10, 25e3, 'Y')\n",
    "h_ax.SetAxisRange(-50, 50, 'X')\n",
    "h_ax.Draw()\n",
    "for ih, _h in enumerate(histos[6:]):\n",
    "    h = _h.Clone()\n",
    "    h.Rebin(2)\n",
    "    h.SetLineWidth(2)\n",
    "    h.SetLineColor(colors[ih])\n",
    "    leg.AddEntry(h, legs[ih], 'L')\n",
    "    h.Draw('same hist')\n",
    "leg.Draw()\n",
    "C.Draw()\n",
    "C.SaveAs(os.path.join(DIR_IN, 'plots/otk_bib_vtx_z.pdf'))"
   ]
  },
  {
   "cell_type": "code",
   "execution_count": null,
   "id": "59139912",
   "metadata": {},
   "outputs": [],
   "source": []
  }
 ],
 "metadata": {
  "kernelspec": {
   "display_name": "Python 3",
   "language": "python",
   "name": "python3"
  },
  "language_info": {
   "codemirror_mode": {
    "name": "ipython",
    "version": 3
   },
   "file_extension": ".py",
   "mimetype": "text/x-python",
   "name": "python",
   "nbconvert_exporter": "python",
   "pygments_lexer": "ipython3",
   "version": "3.8.4"
  }
 },
 "nbformat": 4,
 "nbformat_minor": 5
}
