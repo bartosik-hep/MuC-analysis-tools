{
 "cells": [
  {
   "cell_type": "code",
   "execution_count": 1,
   "id": "f54ad481",
   "metadata": {},
   "outputs": [],
   "source": [
    "import os\n",
    "import math"
   ]
  },
  {
   "cell_type": "code",
   "execution_count": 2,
   "id": "bd362ae8",
   "metadata": {},
   "outputs": [
    {
     "name": "stdout",
     "output_type": "stream",
     "text": [
      "Welcome to JupyROOT 6.22/00\n"
     ]
    }
   ],
   "source": [
    "import ROOT as R\n",
    "import numpy as np"
   ]
  },
  {
   "cell_type": "code",
   "execution_count": 3,
   "id": "c42a4ccd",
   "metadata": {},
   "outputs": [],
   "source": [
    "R.gStyle.SetOptStat(0)\n",
    "R.gStyle.SetGridColor(16)\n",
    "R.gStyle.SetPadRightMargin(0.05)\n",
    "R.gStyle.SetPadLeftMargin(0.15)"
   ]
  },
  {
   "cell_type": "code",
   "execution_count": 30,
   "id": "d0f891ce",
   "metadata": {},
   "outputs": [],
   "source": [
    "def draw(histos, config, out_file=None):\n",
    "    size = (800, 800)\n",
    "    if 'canvas' in config:\n",
    "        size = config['canvas']\n",
    "    C = R.TCanvas(\"canvas\", \"\", size[0], size[1])\n",
    "    C.SetGridx()\n",
    "    C.SetGridy()\n",
    "    R.SetOwnership(C, False)\n",
    "    n = len(histos)\n",
    "    leg = None\n",
    "    if 'leg' in config:\n",
    "        leg = R.TLegend(0.5,0.95 - 1*len(config['leg'])*0.06, 0.95,0.9)\n",
    "        leg.SetMargin(0.2)\n",
    "        leg.SetTextSize(0.03)\n",
    "        leg.SetNColumns(1)\n",
    "        R.SetOwnership(leg, 0)\n",
    "    h_axis = None\n",
    "    h_toDraw = []\n",
    "    for iH, h_ori in enumerate(histos):\n",
    "        h = h_ori.Clone()\n",
    "        if iH == 0:\n",
    "            h_axis = h\n",
    "        if 'rebin' in config:\n",
    "            h.Rebin(config['rebin'])\n",
    "#         h.Rebin(2)\n",
    "        if 'norm' in config:\n",
    "            h.Scale(config['norm'] / h.Integral())\n",
    "        R.SetOwnership(h, 0)\n",
    "        h.SetLineWidth(2)\n",
    "        if 'style' in config:\n",
    "            h.SetLineStyle(config['style'][iH])\n",
    "        h.SetLineColor(config['color'][iH])\n",
    "#         h.SetLineColor(1)\n",
    "#         h.SetFillColor(config['color'][iH])\n",
    "        if leg and len(config['leg']) > iH:\n",
    "#             leg.AddEntry(h, config['leg'][iH], 'l')\n",
    "            leg.AddEntry(h, config['leg'][iH], 'l').SetTextColor(config['color'][iH])\n",
    "        h_toDraw.append(h)\n",
    "    # Actually drawing\n",
    "    h_axis.Draw('AXIS')\n",
    "    h_axis.Draw('AXIG same')\n",
    "    for iH, h in enumerate(h_toDraw):\n",
    "        drawopt = 'hist'\n",
    "        if 'drawopt' in config:\n",
    "            drawopt = config['drawopt']\n",
    "        drawopt += \"same\"\n",
    "        h.Draw(drawopt)\n",
    "    h_axis.Draw('AXIG same')\n",
    "    if leg:\n",
    "        leg.Draw()\n",
    "        h_axis.GetYaxis().SetMaxDigits(4)\n",
    "    if 'y' in config:\n",
    "        h_axis.GetYaxis().SetRangeUser(*config['y'])\n",
    "    if 'x' in config:\n",
    "        h_axis.GetXaxis().SetRangeUser(*config['x'])\n",
    "    if 'logY' in config:\n",
    "        C.SetLogy(config['logY'])\n",
    "    if 'logX' in config:\n",
    "        C.SetLogx(config['logX'])\n",
    "    C.RedrawAxis()\n",
    "    C.Draw()\n",
    "    if out_file:\n",
    "        C.Print(out_file)"
   ]
  },
  {
   "cell_type": "markdown",
   "id": "a46971bf",
   "metadata": {},
   "source": [
    "### Drawing time distributions for each VTX layer"
   ]
  },
  {
   "cell_type": "code",
   "execution_count": 68,
   "id": "c7ea3a8a",
   "metadata": {},
   "outputs": [],
   "source": [
    "DIR_IN = '/Users/nbartosi/cernbox/work/mu_collider/data/2021_11_19_dlfilter/'\n",
    "# range_names = ['3sigma', '1ns', '10ns', '10us']\n",
    "range_names = ['1ns_nodt', '1ns']\n",
    "configs = {\n",
    "    '3sigma': (0.1, 1),\n",
    "    '1ns': (1, 5),\n",
    "    '10ns': (10, 50),\n",
    "    '10us': (10, 50),\n",
    "    '10us_nodt': (10, 50),\n",
    "}\n",
    "try:\n",
    "    for file_in in files_in:\n",
    "        file_in.Close()\n",
    "except:\n",
    "    pass\n",
    "files_in = {name: R.TFile(os.path.join(DIR_IN, 'digi/bib_trk_{0:s}_tuple.root'.format(name))) for name in range_names}\n",
    "trees = {name: [f.Get(t) for t in ['LCTuple', 'LCTuple_DL']] for name, f in files_in.items()}\n"
   ]
  },
  {
   "cell_type": "code",
   "execution_count": 15,
   "id": "4b0e7c80",
   "metadata": {
    "scrolled": true
   },
   "outputs": [
    {
     "name": "stdout",
     "output_type": "stream",
     "text": [
      "2 0 429436\n",
      "2 1 515481\n",
      "2 2 325071\n",
      "2 3 186990\n",
      "2 0 417306\n",
      "2 1 446134\n",
      "2 2 144881\n",
      "2 3 31475\n"
     ]
    },
    {
     "name": "stderr",
     "output_type": "stream",
     "text": [
      "Warning in <TFile::Append>: Replacing existing TH1: h0 (Potential memory leak).\n",
      "Warning in <TFile::Append>: Replacing existing TH1: h0 (Potential memory leak).\n",
      "Warning in <TFile::Append>: Replacing existing TH1: h1 (Potential memory leak).\n",
      "Warning in <TFile::Append>: Replacing existing TH1: h1 (Potential memory leak).\n",
      "Warning in <TFile::Append>: Replacing existing TH1: h2 (Potential memory leak).\n",
      "Warning in <TFile::Append>: Replacing existing TH1: h2 (Potential memory leak).\n",
      "Warning in <TFile::Append>: Replacing existing TH1: h3 (Potential memory leak).\n",
      "Warning in <TFile::Append>: Replacing existing TH1: h3 (Potential memory leak).\n",
      "Warning in <TFile::Append>: Replacing existing TH1: h3 (Potential memory leak).\n",
      "Warning in <TFile::Append>: Replacing existing TH1: h0 (Potential memory leak).\n",
      "Warning in <TFile::Append>: Replacing existing TH1: h1 (Potential memory leak).\n",
      "Warning in <TFile::Append>: Replacing existing TH1: h2 (Potential memory leak).\n",
      "Warning in <TFile::Append>: Replacing existing TH1: h3 (Potential memory leak).\n",
      "Warning in <TCanvas::Constructor>: Deleting canvas with same name: canvas\n",
      "Info in <TCanvas::Print>: pdf file /Users/nbartosi/cernbox/work/mu_collider/data/2021_11_19_dlfilter/plots/hit_time_ori_2_10us_nodt.pdf has been created\n"
     ]
    },
    {
     "data": {
      "image/png": "[encoded data removed]",
      "text/plain": [
       "<IPython.core.display.Image object>"
      ]
     },
     "metadata": {},
     "output_type": "display_data"
    }
   ],
   "source": [
    "DIR_OUT = os.path.join(DIR_IN, 'plots')\n",
    "nLayers = 4\n",
    "ori = 2\n",
    "for name, rtrees in trees.items():\n",
    "    histos = {}\n",
    "    for cut, tree in zip(('all', 'dl'), rtrees):\n",
    "        layers = range(nLayers)\n",
    "        histos[cut] = [R.TH1F('h{0:d}'.format(i), ';Hit time - t_{0} [ns];Hits', 1100, -1, 10) for i in layers]\n",
    "        for layer in layers:\n",
    "            h = histos[cut][layer]\n",
    "            if layer <= 3:\n",
    "                nev = tree.Draw('thtim >> h{0:d}'.format(layer), 'abs(thpoz) > 70.0 && int((int(thci0/128)%64)/2) == {1:d}'.format(ori, layer), 'goff')\n",
    "            else:\n",
    "                nev = tree.Draw('thtim >> h{0:d}'.format(layer), 'abs(thpoz) > 70.0 && (int(thci0/128)%64) >= {1:d}'.format(ori, layer), 'goff')\n",
    "            print(ori, layer, nev)\n",
    "    legs = []\n",
    "    for l in layers:\n",
    "        legs.append('Layer {0:d} [{1:.0f}K]'.format(l+1, histos['all'][l].GetEntries()/1e3))\n",
    "        legs.append('+ DL [{0:.0f}K]'.format(histos['dl'][l].GetEntries()/1e3))\n",
    "    draw([histos[c][l] for l in layers for c in ['all', 'dl'] ], \n",
    "         {'color': [12]*2 + [R.kAzure+7]*2 + [R.kTeal+2]*2 + [2]*2,\n",
    "          'style': [1, 7]*4,\n",
    "          'leg': legs,\n",
    "          'rebin': configs[name][1],\n",
    "#           'rebin': 50,\n",
    "          'logY': True,\n",
    "          'x': (-0.1, configs[name][0]),\n",
    "          'y': (10, 2e6),\n",
    "#          }, None)\n",
    "         }, os.path.join(DIR_OUT, 'hit_time_ori_{0:d}_{1:s}.pdf'.format(ori, name)))\n"
   ]
  },
  {
   "cell_type": "markdown",
   "id": "42d65dc5",
   "metadata": {},
   "source": [
    "### Drawing hit multiplicities per layer for different hit selections"
   ]
  },
  {
   "cell_type": "code",
   "execution_count": 37,
   "id": "6bf559ae",
   "metadata": {
    "scrolled": false
   },
   "outputs": [
    {
     "name": "stdout",
     "output_type": "stream",
     "text": [
      "1 3 1131192\n",
      "1 3 1065166\n",
      "1 3 1131192\n",
      "1 3 989778\n"
     ]
    },
    {
     "name": "stderr",
     "output_type": "stream",
     "text": [
      "Warning in <TFile::Append>: Replacing existing TH1: h_1ns_nodt_all (Potential memory leak).\n",
      "Warning in <TFile::Append>: Replacing existing TH1: h_1ns_nodt_dl (Potential memory leak).\n",
      "Warning in <TFile::Append>: Replacing existing TH1: h_1ns_dl (Potential memory leak).\n",
      "Warning in <TCanvas::Constructor>: Deleting canvas with same name: canvas\n",
      "Info in <TCanvas::Print>: pdf file /Users/nbartosi/cernbox/work/mu_collider/data/2021_11_19_dlfilter/plots/hit_layer_ori_1_1ns_nodt.pdf has been created\n"
     ]
    },
    {
     "data": {
      "image/png": "[encoded data removed]",
      "text/plain": [
       "<IPython.core.display.Image object>"
      ]
     },
     "metadata": {},
     "output_type": "display_data"
    }
   ],
   "source": [
    "DIR_OUT = os.path.join(DIR_IN, 'plots')\n",
    "nLayers = 4\n",
    "ori = 1\n",
    "histos = {}\n",
    "legs = []\n",
    "for name, rtrees in trees.items():\n",
    "    for cut, tree in zip(('all', 'dl'), rtrees):\n",
    "        layers = range(nLayers)\n",
    "        hname = f'h_{name}_{cut}'\n",
    "        h = R.TH1F(hname, ';Layer;Hits', 10, 0, 10)\n",
    "        nev = tree.Draw(f'int(thci0/128)%64 >> {hname}', 'abs(thpoz) < 70.0', 'goff')\n",
    "        print(ori, layer, nev)\n",
    "        histos[(name, cut)] = h\n",
    "    legs.append('[{0:.1f}M]'.format(histos[(name, 'all')].GetEntries()/1e6))\n",
    "    legs.append('[{0:.1f}M]'.format(histos[(name, 'dl')].GetEntries()/1e6))\n",
    "draw([histos[comb] for comb in [('1ns_nodt', 'all'), ('1ns_nodt', 'dl'), ('1ns', 'dl')] ], {\n",
    "    'color': [12]*2 + [R.kAzure+7]*2 + [R.kTeal+2]*2 + [2]*2,\n",
    "    'style': [1, 7]*4,\n",
    "    'leg': ['t < 1ns '+legs[0], '+ DL (angle) '+legs[1], '+ DL (angle & time) '+legs[3]],\n",
    "    'rebin': 1,\n",
    "    'logY': True,\n",
    "#     'x': (-0.1, configs[name][0]),\n",
    "    'y': (1e3, 2e6),\n",
    "#          }, None)\n",
    "}, os.path.join(DIR_OUT, 'hit_layer_ori_{0:d}_1ns_nodt.pdf'.format(ori)))\n"
   ]
  },
  {
   "cell_type": "markdown",
   "id": "9facdac3",
   "metadata": {},
   "source": [
    "### Calculating detector-layer areas for hit-density calculations"
   ]
  },
  {
   "cell_type": "code",
   "execution_count": 40,
   "id": "f6c4b83e",
   "metadata": {},
   "outputs": [],
   "source": [
    "sens_area = {}  # in mm\n",
    "for sub in range(2):\n",
    "    sens_area.update({('b', l*2+sub): 130*a for l, a in enumerate([16*13, 15*23, 21*24, 29*24])})\n",
    "er_max = 115-3\n",
    "for sub in range(2):\n",
    "    sens_area.update({('e', l*2+sub): math.tan(math.pi/16)*(r+1+er_max+1)*(er_max-r) for l, r in enumerate([22+3, 28+3, 35+3, 50+3])})\n",
    "    "
   ]
  },
  {
   "cell_type": "markdown",
   "id": "327de648",
   "metadata": {},
   "source": [
    "### Drawing hit densities per layers"
   ]
  },
  {
   "cell_type": "code",
   "execution_count": 70,
   "id": "698c58c9",
   "metadata": {},
   "outputs": [
    {
     "name": "stdout",
     "output_type": "stream",
     "text": [
      "2 7 1131192\n",
      "2 7 1065166\n",
      "2 7 1131192\n",
      "2 7 989778\n"
     ]
    },
    {
     "name": "stderr",
     "output_type": "stream",
     "text": [
      "Warning in <TFile::Append>: Replacing existing TH1: h_1ns_nodt_all (Potential memory leak).\n",
      "Warning in <TFile::Append>: Replacing existing TH1: h_1ns_nodt_dl (Potential memory leak).\n",
      "Warning in <TFile::Append>: Replacing existing TH1: h_1ns_dl (Potential memory leak).\n",
      "Warning in <TCanvas::Constructor>: Deleting canvas with same name: canvas\n",
      "Info in <TCanvas::Print>: pdf file /Users/nbartosi/cernbox/work/mu_collider/data/2021_11_19_dlfilter/plots/hit_density_layer_ori_2_1ns_nodt.pdf has been created\n"
     ]
    },
    {
     "data": {
      "image/png": "[encoded data removed]",
      "text/plain": [
       "<IPython.core.display.Image object>"
      ]
     },
     "metadata": {},
     "output_type": "display_data"
    }
   ],
   "source": [
    "DIR_OUT = os.path.join(DIR_IN, 'plots')\n",
    "nLayers = 4\n",
    "ori = 2\n",
    "histos = {}\n",
    "legs = []\n",
    "for name, rtrees in trees.items():\n",
    "    for cut, tree in zip(('all', 'dl'), rtrees):\n",
    "        layers = range(nLayers)\n",
    "        hname = f'h_{name}_{cut}'\n",
    "        h = R.TH1F(hname, ';Layer;Hit density [cm^{-2}]', 10, 0, 10)\n",
    "        nev = tree.Draw(f'int(thci0/128)%64 >> {hname}', 'abs(thpoz) < 70.0', 'goff')\n",
    "        print(ori, layer, nev)\n",
    "        # Correcting for the layer area [cm^2]\n",
    "        for layer in range(8):\n",
    "            h.SetBinContent(layer+1, h.GetBinContent(layer+1)/(sens_area[('b', layer)] * 2e-2))\n",
    "        histos[(name, cut)] = h\n",
    "    legs.append('[{0:.1f}M]'.format(histos[(name, 'all')].GetEntries()/1e6))\n",
    "    legs.append('[{0:.1f}M]'.format(histos[(name, 'dl')].GetEntries()/1e6))\n",
    "draw([histos[comb] for comb in [('1ns_nodt', 'all'), ('1ns_nodt', 'dl'), ('1ns', 'dl')] ], {\n",
    "    'color': [12]*2 + [R.kAzure+7]*2 + [R.kTeal+2]*2 + [2]*2,\n",
    "    'style': [1, 7]*4,\n",
    "    'leg': ['t < 1ns '+legs[0], '+ DL (angle) '+legs[1], '+ DL (angle & time) '+legs[3]],\n",
    "    'rebin': 1,\n",
    "    'logY': True,\n",
    "#     'x': (-0.1, configs[name][0]),\n",
    "    'y': (1e0, 5e3),\n",
    "#          }, None)\n",
    "}, os.path.join(DIR_OUT, 'hit_density_layer_ori_{0:d}_1ns_nodt.pdf'.format(ori)))\n"
   ]
  },
  {
   "cell_type": "code",
   "execution_count": 33,
   "id": "634ab668",
   "metadata": {},
   "outputs": [],
   "source": [
    "def fibb(n):\n",
    "    m1 = 1\n",
    "    m2 = 0\n",
    "    for index in range(n):\n",
    "        this = m1 + m2\n",
    "        m2 = m1\n",
    "        m1 = this\n",
    "        print(index, this)"
   ]
  },
  {
   "cell_type": "code",
   "execution_count": 34,
   "id": "ef1d84b9",
   "metadata": {},
   "outputs": [
    {
     "name": "stdout",
     "output_type": "stream",
     "text": [
      "0 1\n",
      "1 2\n",
      "2 3\n",
      "3 5\n"
     ]
    }
   ],
   "source": [
    "fibb(4)"
   ]
  },
  {
   "cell_type": "code",
   "execution_count": null,
   "id": "0f5e6017",
   "metadata": {},
   "outputs": [],
   "source": []
  }
 ],
 "metadata": {
  "kernelspec": {
   "display_name": "Python 3",
   "language": "python",
   "name": "python3"
  },
  "language_info": {
   "codemirror_mode": {
    "name": "ipython",
    "version": 3
   },
   "file_extension": ".py",
   "mimetype": "text/x-python",
   "name": "python",
   "nbconvert_exporter": "python",
   "pygments_lexer": "ipython3",
   "version": "3.8.4"
  }
 },
 "nbformat": 4,
 "nbformat_minor": 5
}
