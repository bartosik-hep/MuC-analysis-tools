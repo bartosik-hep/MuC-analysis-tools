{
 "cells": [
  {
   "cell_type": "code",
   "execution_count": 1,
   "metadata": {},
   "outputs": [
    {
     "name": "stdout",
     "output_type": "stream",
     "text": [
      "Welcome to JupyROOT 6.22/00\n"
     ]
    }
   ],
   "source": [
    "import os\n",
    "from pycode.draw import draw"
   ]
  },
  {
   "cell_type": "code",
   "execution_count": 2,
   "metadata": {},
   "outputs": [],
   "source": [
    "import ROOT as R\n",
    "import pandas as pd\n",
    "import numpy as np\n",
    "from root_numpy import root2array, tree2array\n",
    "from root_numpy import array2hist, fill_hist\n",
    "import itertools\n",
    "from array import array"
   ]
  },
  {
   "cell_type": "code",
   "execution_count": 3,
   "metadata": {},
   "outputs": [],
   "source": [
    "R.gStyle.SetOptStat(0)\n",
    "R.gStyle.SetPadRightMargin(0.05)"
   ]
  },
  {
   "cell_type": "code",
   "execution_count": 4,
   "metadata": {},
   "outputs": [],
   "source": [
    "{DIR_IN = '/Users/nbartosi/Cernbox/work/mu_collider/data/root/root'\n",
    "FILES_IN = [os.path.join(DIR_IN, name) for name in ['pgun_mumi_100k.root', 'bib/bib.root']]}"
   ]
  },
  {
   "cell_type": "code",
   "execution_count": 5,
   "metadata": {},
   "outputs": [],
   "source": [
    "DIR_IN = '~/cernbox/work/mu_collider/data/dl_filter/'\n",
    "FILES_IN = [os.path.join(DIR_IN, name) for name in ['pgun_mumi_100k_mod4_OverlayBIB_fixedBIB_tuple.root']]"
   ]
  },
  {
   "cell_type": "code",
   "execution_count": 6,
   "metadata": {},
   "outputs": [],
   "source": [
    "files_in = [R.TFile(file_in) for file_in in FILES_IN]\n",
    "trees = [file_in.Get('MyLCTuple') for file_in in files_in]"
   ]
  },
  {
   "cell_type": "markdown",
   "metadata": {},
   "source": [
    "### Constructing the SimHit DataFrame"
   ]
  },
  {
   "cell_type": "code",
   "execution_count": 7,
   "metadata": {},
   "outputs": [],
   "source": [
    "def tree2dataframe(tree):\n",
    "    \"\"\"Converts a tree to a dataframe\"\"\"\n",
    "    # Defining the columns to read from the TTree into an array\n",
    "    # cols = ['stori', 'stpox', 'stpoy', 'stpoz', 'sqrt(stpox*stpox + stpoy*stpoy)', 'stci0', 'stci1', 'sttim - 1e6*sqrt(stpox*stpox + stpoy*stpoy + stpoz*stpoz)/TMath::C()', 'stedp*1e6', 'stmcp']\n",
    "    # coln = ['stori', 'stpox', 'stpoy', 'stpoz', 'stpor', 'stci0', 'stci1', 'sttim', 'stedp', 'stmcp']\n",
    "    cols = ['thori', 'thpox', 'thpoy', 'thpoz', 'TMath::ATan2(sqrt(thpox*thpox + thpoy*thpoy), thpoz)', 'TMath::ATan2(thpox, thpoy)', 'sqrt(thpox*thpox + thpoy*thpoy)', 'thci0', 'thtim', 'thedp*1e6']\n",
    "    coln = ['thori', 'thpox', 'thpoy', 'thpoz', 'ththeta', 'thphi', 'thpor', 'thci0', 'thtim', 'thedp']\n",
    "\n",
    "    treearr = tree2array(tree,\n",
    "                branches=cols,\n",
    "                start=0, stop=30000)\n",
    "    # Constructing the DataFrames\n",
    "    df = None\n",
    "    dfs = []\n",
    "    print('Converting events to dataframes')\n",
    "    for event, arr in enumerate(treearr):\n",
    "        type(arr)\n",
    "        a = np.concatenate(arr).reshape([len(arr), len(arr[0])]).transpose()\n",
    "        dfe = pd.DataFrame(a, columns=coln)\n",
    "        dfe['event'] = event\n",
    "        if event % 1000 == 0:\n",
    "            print(event)\n",
    "        dfs.append(dfe)\n",
    "    print(' + Done')\n",
    "    #     if df is None:\n",
    "    #         df = dfe\n",
    "    #     else:\n",
    "    #         df = pd.concat([df, dfe], ignore_index=True)\n",
    "    print('Merging {0:d} dataframes'.format(len(dfs)))\n",
    "    df = pd.concat(dfs, ignore_index=True)\n",
    "    print(' + Done')\n",
    "    print('Formatting the dataframe')\n",
    "    # # Correcting types\n",
    "    # df['stmcp'] = df['stmcp'].astype(np.uint)\n",
    "    # df['stori'] = df['stori'].astype(np.int)\n",
    "    # df['stci0'] = df['stci0'].astype(np.uint32)\n",
    "    # df['stci1'] = df['stci1'].astype(np.uint32)\n",
    "    # # Adding side/layer information\n",
    "    # df['stcis'] = (df['stci0'].values >> 5) & 0b11\n",
    "    # df['stcil'] = (df['stci0'].values >> 7) & 0b111111\n",
    "    # Correcting types\n",
    "    df['thori'] = df['thori'].astype(np.int)\n",
    "    df['thci0'] = df['thci0'].astype(np.uint32)\n",
    "    # Adding side/layer information\n",
    "    df['thcis'] = (df['thci0'].values >> 5) & 0b11\n",
    "    df['thcil'] = (df['thci0'].values >> 7) & 0b111111\n",
    "    print(' + Done')\n",
    "    return df"
   ]
  },
  {
   "cell_type": "code",
   "execution_count": 8,
   "metadata": {},
   "outputs": [
    {
     "name": "stdout",
     "output_type": "stream",
     "text": [
      "Converting events to dataframes\n",
      "0\n",
      " + Done\n",
      "Merging 1 dataframes\n",
      " + Done\n",
      "Formatting the dataframe\n",
      " + Done\n"
     ]
    }
   ],
   "source": [
    "dfs = [tree2dataframe(tree) for tree in trees]"
   ]
  },
  {
   "cell_type": "markdown",
   "metadata": {},
   "source": [
    "### Booking histograms"
   ]
  },
  {
   "cell_type": "code",
   "execution_count": 9,
   "metadata": {
    "scrolled": true
   },
   "outputs": [],
   "source": [
    "NHISTOS = 4\n",
    "histos = [{\n",
    "    'nLayerHits': R.TH1F('nLayerHits{0:d}'.format(i), ';Layer ID;Hits', 8,0,8),\n",
    "    'sublayerDRmin': R.TH1F('sublayerDRmin{0:d}'.format(i), ';#DeltaR_{min} [rad];Hits [a.u.]', 500,0,0.05),\n",
    "    'sublayerDPhi_closest': R.TH1F('sublayerDPhi_closest{0:d}'.format(i), ';#Delta#phi_{closest} [rad];Hits [a.u.]', 500,0,0.05),\n",
    "    'sublayerDZ_closest': R.TH1F('sublayerDZ_closest{0:d}'.format(i), ';#DeltaZ_{closest} [mm];Hits [a.u.]', 5000,0,5.0),\n",
    "    'sublayerDTheta_closest': R.TH1F('sublayerDTheta_closest{0:d}'.format(i), ';#Delta#theta_{closest} [rad];Hits [a.u.]', 1000,0,0.01),\n",
    "    'sublayerDR_closest': R.TH1F('sublayerDR_closest{0:d}'.format(i), ';#DeltaR_{closest} [mm];Hits [a.u.]', 3000,0,3.0),\n",
    "    'posZ': [R.TH1F('posZ{0:d}_{1:d}'.format(i, j), ';Z [mm];Hits [a.u.]', 4000,-400,400) for j in range(8)],\n",
    "    'posR': [R.TH1F('posR{0:d}_{1:d}'.format(i, j), ';R [mm];Hits [a.u.]', 3000,0,150) for j in range(8)],\n",
    "} for i in range(NHISTOS)]\n",
    "    "
   ]
  },
  {
   "cell_type": "markdown",
   "metadata": {},
   "source": [
    "### Filling histograms"
   ]
  },
  {
   "cell_type": "code",
   "execution_count": 10,
   "metadata": {},
   "outputs": [],
   "source": [
    "for i, df in enumerate(dfs):\n",
    "    for iH, ori in enumerate([1,2,3,4]):\n",
    "        h = histos[iH]['nLayerHits']\n",
    "        h.Reset()\n",
    "    #     nLayerHits = df[(df['thori'] == 1)].groupby('thcil')['thcil'].count()\n",
    "    #     array2hist(nLayerHits, histos[i]['nLayerHits'])\n",
    "        nLayerHits = df[(df['thori'] == ori)]['thcil']\n",
    "        fill_hist(h, nLayerHits)"
   ]
  },
  {
   "cell_type": "markdown",
   "metadata": {},
   "source": [
    "### Drawing histograms"
   ]
  },
  {
   "cell_type": "code",
   "execution_count": 11,
   "metadata": {},
   "outputs": [
    {
     "name": "stderr",
     "output_type": "stream",
     "text": [
      "Info in <TCanvas::Print>: pdf file /Users/nbartosi/pdc/muoncdata/users/bartosik/clic/studies/2020_04_21_tracker/digi/plots/nLayerHits_vtxe.pdf has been created\n"
     ]
    },
    {
     "data": {
      "image/png": "[encoded data removed]",
      "text/plain": [
       "<IPython.core.display.Image object>"
      ]
     },
     "metadata": {},
     "output_type": "display_data"
    }
   ],
   "source": [
    "hists = [histos[i]['nLayerHits'] for i in [2,3]]\n",
    "config = {'canvas': (800, 800),\n",
    "          'color': [1, R.kRed, R.kAzure+2],\n",
    "#           'leg': ['timing cut', '+ double layer cut'],\n",
    "          'y': (10, 8e4),\n",
    "          'x': (0, 10),\n",
    "          'logY': False,\n",
    "          'drawopt': 'hist text00'\n",
    "         }\n",
    "DIR_OUT = '~/pdc/muoncdata/users/bartosik/clic/studies/2020_04_21_tracker/digi/plots'\n",
    "out = None\n",
    "out = os.path.join(DIR_OUT, 'nLayerHits_vtxe.pdf')\n",
    "draw(hists, config, out)"
   ]
  },
  {
   "cell_type": "code",
   "execution_count": null,
   "metadata": {},
   "outputs": [],
   "source": [
    "h = [histos[i]['nLayerHits'] for i in range(3)]\n",
    "config = {'canvas': (1000, 800),\n",
    "          'color': [1, R.kAzure+2, R.kRed],\n",
    "          'leg': ['IP #mu^{#pm}', 'BIB e^{#pm}', 'BIB #gamma'],\n",
    "          'y': (0, 1e5),\n",
    "          'x': (0, 10)\n",
    "         }\n",
    "DIR_OUT = '~/pdc/muoncdata/users/bartosik/clic/studies/2020_04_21_tracker/plots'\n",
    "out = None\n",
    "# out = os.path.join(DIR_OUT, 'nLayerHits_vtxe.pdf')\n",
    "draw(h, config, out)"
   ]
  },
  {
   "cell_type": "code",
   "execution_count": 134,
   "metadata": {},
   "outputs": [],
   "source": [
    "df_sel = (df['stori'] == 1) & (df['sttim'] < 0.15) & (df['sttim'] > -0.15) & (df['stcis'] == 0)\n",
    "# df_g = df[df_sel].groupby(['stcis', 'stcil'])\n",
    "df_g = df[df_sel].groupby(['event', 'stmcp'])"
   ]
  },
  {
   "cell_type": "code",
   "execution_count": 153,
   "metadata": {},
   "outputs": [
    {
     "data": {
      "text/plain": [
       "event  stmcp\n",
       "0      8939     1\n",
       "1673   13490    1\n",
       "       15195    1\n",
       "       19321    1\n",
       "       22563    1\n",
       "               ..\n",
       "490    12153    4\n",
       "1765   9822     4\n",
       "1664   2812     4\n",
       "490    12173    4\n",
       "1726   18645    4\n",
       "Name: stcil, Length: 83089, dtype: int64"
      ]
     },
     "execution_count": 153,
     "metadata": {},
     "output_type": "execute_result"
    }
   ],
   "source": [
    "df_g['stcil'].nunique().sort_values()"
   ]
  },
  {
   "cell_type": "code",
   "execution_count": 154,
   "metadata": {},
   "outputs": [
    {
     "data": {
      "text/html": [
       "<div>\n",
       "<style scoped>\n",
       "    .dataframe tbody tr th:only-of-type {\n",
       "        vertical-align: middle;\n",
       "    }\n",
       "\n",
       "    .dataframe tbody tr th {\n",
       "        vertical-align: top;\n",
       "    }\n",
       "\n",
       "    .dataframe thead th {\n",
       "        text-align: right;\n",
       "    }\n",
       "</style>\n",
       "<table border=\"1\" class=\"dataframe\">\n",
       "  <thead>\n",
       "    <tr style=\"text-align: right;\">\n",
       "      <th></th>\n",
       "      <th>stori</th>\n",
       "      <th>stpox</th>\n",
       "      <th>stpoy</th>\n",
       "      <th>stpoz</th>\n",
       "      <th>stpor</th>\n",
       "      <th>stci0</th>\n",
       "      <th>stci1</th>\n",
       "      <th>sttim</th>\n",
       "      <th>stedp</th>\n",
       "      <th>stmcp</th>\n",
       "      <th>event</th>\n",
       "      <th>stcis</th>\n",
       "      <th>stcil</th>\n",
       "    </tr>\n",
       "  </thead>\n",
       "  <tbody>\n",
       "    <tr>\n",
       "      <th>6473919</th>\n",
       "      <td>1</td>\n",
       "      <td>0.470382</td>\n",
       "      <td>30.165000</td>\n",
       "      <td>-13.908739</td>\n",
       "      <td>30.168667</td>\n",
       "      <td>32769</td>\n",
       "      <td>0</td>\n",
       "      <td>-0.029664</td>\n",
       "      <td>49.981933</td>\n",
       "      <td>18645</td>\n",
       "      <td>1726</td>\n",
       "      <td>0</td>\n",
       "      <td>0</td>\n",
       "    </tr>\n",
       "    <tr>\n",
       "      <th>6473920</th>\n",
       "      <td>1</td>\n",
       "      <td>1.201505</td>\n",
       "      <td>32.215000</td>\n",
       "      <td>-9.217187</td>\n",
       "      <td>32.237398</td>\n",
       "      <td>32897</td>\n",
       "      <td>0</td>\n",
       "      <td>-0.013431</td>\n",
       "      <td>38.292506</td>\n",
       "      <td>18645</td>\n",
       "      <td>1726</td>\n",
       "      <td>0</td>\n",
       "      <td>1</td>\n",
       "    </tr>\n",
       "    <tr>\n",
       "      <th>6473921</th>\n",
       "      <td>1</td>\n",
       "      <td>20.076492</td>\n",
       "      <td>47.274817</td>\n",
       "      <td>44.557410</td>\n",
       "      <td>51.361210</td>\n",
       "      <td>24833</td>\n",
       "      <td>0</td>\n",
       "      <td>0.069726</td>\n",
       "      <td>75.440708</td>\n",
       "      <td>18645</td>\n",
       "      <td>1726</td>\n",
       "      <td>0</td>\n",
       "      <td>2</td>\n",
       "    </tr>\n",
       "    <tr>\n",
       "      <th>6473922</th>\n",
       "      <td>1</td>\n",
       "      <td>26.786702</td>\n",
       "      <td>47.488990</td>\n",
       "      <td>58.994793</td>\n",
       "      <td>54.522763</td>\n",
       "      <td>16769</td>\n",
       "      <td>0</td>\n",
       "      <td>0.081635</td>\n",
       "      <td>43.210290</td>\n",
       "      <td>18645</td>\n",
       "      <td>1726</td>\n",
       "      <td>0</td>\n",
       "      <td>3</td>\n",
       "    </tr>\n",
       "  </tbody>\n",
       "</table>\n",
       "</div>"
      ],
      "text/plain": [
       "         stori      stpox      stpoy      stpoz      stpor  stci0  stci1  \\\n",
       "6473919      1   0.470382  30.165000 -13.908739  30.168667  32769      0   \n",
       "6473920      1   1.201505  32.215000  -9.217187  32.237398  32897      0   \n",
       "6473921      1  20.076492  47.274817  44.557410  51.361210  24833      0   \n",
       "6473922      1  26.786702  47.488990  58.994793  54.522763  16769      0   \n",
       "\n",
       "            sttim      stedp  stmcp  event  stcis  stcil  \n",
       "6473919 -0.029664  49.981933  18645   1726      0      0  \n",
       "6473920 -0.013431  38.292506  18645   1726      0      1  \n",
       "6473921  0.069726  75.440708  18645   1726      0      2  \n",
       "6473922  0.081635  43.210290  18645   1726      0      3  "
      ]
     },
     "execution_count": 154,
     "metadata": {},
     "output_type": "execute_result"
    }
   ],
   "source": [
    "df.loc[df_g.groups[(1726, 18645)]]"
   ]
  },
  {
   "cell_type": "markdown",
   "metadata": {},
   "source": [
    "### Calculating minimum dR between hits in sublayers"
   ]
  },
  {
   "cell_type": "code",
   "execution_count": 18,
   "metadata": {
    "scrolled": false
   },
   "outputs": [
    {
     "name": "stdout",
     "output_type": "stream",
     "text": [
      "LAYER 0\n",
      "0 23938\n",
      "1 114583\n",
      "LAYER 1\n",
      "0 18734\n",
      "1 26449\n",
      "LAYER 2\n",
      "0 15228\n",
      "1 19586\n",
      "LAYER 3\n",
      "0 11999\n",
      "1 15672\n",
      "+ Done\n"
     ]
    }
   ],
   "source": [
    "DIR_OUT = '~/pdc/muoncdata/users/bartosik/clic/studies/2020_04_21_tracker/plots'\n",
    "# config = {'color': [1, R.kAzure+2, R.kRed],\n",
    "#           'leg': ['IP #mu^{-}', 'BIB'],\n",
    "#           'y': (0, 1),\n",
    "# #           'x': (0, 1),\n",
    "#           'logY': False,\n",
    "#           'norm': 1.0,\n",
    "#           'rebin': 8\n",
    "#          }\n",
    "# configs = {\n",
    "#     'sublayerDRmin':         {'x': (0,0.03),  'y': (0,0.8),    'rebin': 2},\n",
    "#     'sublayerDPhi_closest':  {'x': (0,0.03),  'y': (0,0.8),    'rebin': 2},\n",
    "#     'sublayerDZ_closest':    {'x': (0,3.00),  'y': (0,0.05), 'rebin': 20},\n",
    "#     'sublayerDR_closest':    {'x': (1.5,2.5), 'y': (0,1),  'rebin': 20},\n",
    "# }\n",
    "file_out = R.TFile(os.path.join(DIR_OUT, 'sublayer_histos_vtxb_v2.root'), 'RECREATE')\n",
    "for layer in range(4):\n",
    "    print('LAYER {0:d}'.format(layer))\n",
    "    for i, df_name in enumerate(['mu','bib']):\n",
    "        df = dfs[i]\n",
    "        sel = (df['thori'] == 1) & ((df['thcil']/2).astype(int) == layer)\n",
    "        sel0 = sel & (df['thcil']%2 == 0)\n",
    "        sel1 = sel & (df['thcil']%2 == 1)\n",
    "        tp0 = df.loc[sel0, ['ththeta', 'thphi', 'thpoz', 'thpor']].values\n",
    "        tp1 = df.loc[sel1, ['ththeta', 'thphi', 'thpoz', 'thpor']].values.transpose()\n",
    "#         break\n",
    "        \n",
    "#         continue\n",
    "        print(i, len(tp0))\n",
    "        dR_min = np.ones(len(tp0), dtype=np.float32)*100\n",
    "        dPhi_closest = np.ones(len(tp0), dtype=np.float32)*100\n",
    "        dTheta_closest = np.ones(len(tp0), dtype=np.float32)*100\n",
    "        dZ_closest = np.ones(len(tp0), dtype=np.float32)*100\n",
    "        dR_closest = np.ones(len(tp0), dtype=np.float32)*100\n",
    "        for iH, tp in enumerate(tp0):\n",
    "            dPhi = tp1[1] - tp[1]\n",
    "            dPhi[dPhi > np.pi] -= np.pi*2\n",
    "            dPhi[dPhi < -np.pi] += np.pi*2\n",
    "            dTheta = tp1[0] - tp[0]\n",
    "            dR = np.sqrt(np.square(dPhi) + np.square(dTheta))\n",
    "            idx_closest = np.argmin(dR)\n",
    "            dR_min[iH] = dR[idx_closest]\n",
    "            dPhi_closest[iH] = abs(dPhi[idx_closest])\n",
    "            dTheta_closest[iH] = abs(dTheta[idx_closest])\n",
    "            dZ_closest[iH] = abs(tp[2] - tp1[2][idx_closest])\n",
    "            dR_closest[iH] = abs(tp[3] - tp1[3][idx_closest])\n",
    "        for hname, values in {\n",
    "            'sublayerDRmin': dR_min,\n",
    "            'sublayerDPhi_closest': dPhi_closest,\n",
    "            'sublayerDTheta_closest': dTheta_closest,\n",
    "            'sublayerDZ_closest': dZ_closest,\n",
    "            'sublayerDR_closest': dR_closest\n",
    "        }.items():\n",
    "            h = histos[i][hname]\n",
    "            h.Reset()\n",
    "            fill_hist(h, values)\n",
    "            name = '{0:s}_{1:s}_{2:d}'.format(hname, df_name, layer)\n",
    "            h.Write(name)\n",
    "file_out.Close()\n",
    "print('+ Done')\n",
    "        \n",
    "#     # Drawing the hisotgrams\n",
    "#     for hname in ['sublayerDRmin', 'sublayerDPhi_closest', 'sublayerDZ_closest', 'sublayerDR_closest']:\n",
    "#         print('Drawing: {0:s}'.format(hname))\n",
    "#         h = [histos[i][hname] for i in range(3)]\n",
    "#         out = os.path.join(DIR_OUT, '{0:s}_vtxe_l{1:d}.pdf'.format(hname, layer+1))\n",
    "#         config.update(configs[hname])\n",
    "#         draw(h, config, out)\n",
    "#     print('+ Done')"
   ]
  },
  {
   "cell_type": "code",
   "execution_count": 35,
   "metadata": {
    "scrolled": false
   },
   "outputs": [
    {
     "name": "stderr",
     "output_type": "stream",
     "text": [
      "Warning in <TCanvas::Constructor>: Deleting canvas with same name: canvas\n"
     ]
    },
    {
     "data": {
      "image/png": "[encoded data removed]",
      "text/plain": [
       "<IPython.core.display.Image object>"
      ]
     },
     "metadata": {},
     "output_type": "display_data"
    }
   ],
   "source": [
    "h = [histos[i]['sublayerDTheta_closest'] for i in range(2)]\n",
    "config = {'color': [1, R.kAzure+2, R.kRed],\n",
    "          'leg': ['IP #mu^{#pm}', 'BIB e^{#pm}', 'BIB #gamma'],\n",
    "          'y': (0, 0.3),\n",
    "          'x': (0, 0.01),\n",
    "          'norm': 1.0,\n",
    "          'rebin': 8\n",
    "         }\n",
    "DIR_OUT = '~/pdc/muoncdata/users/bartosik/clic/studies/2020_04_21_tracker/plots'\n",
    "out = None\n",
    "# out = os.path.join(DIR_OUT, 'sublayerDRmin_vtxb_l3.pdf')\n",
    "draw(h, config, out)"
   ]
  },
  {
   "cell_type": "code",
   "execution_count": 452,
   "metadata": {},
   "outputs": [
    {
     "name": "stderr",
     "output_type": "stream",
     "text": [
      "Warning in <TCanvas::Constructor>: Deleting canvas with same name: canvas\n"
     ]
    },
    {
     "data": {
      "image/png": "[encoded data removed]",
      "text/plain": [
       "<IPython.core.display.Image object>"
      ]
     },
     "metadata": {},
     "output_type": "display_data"
    }
   ],
   "source": [
    "h = histos[0]['posR']\n",
    "config = {'color': [1,14,  R.kAzure+2,R.kAzure+6,  R.kSpring-6,R.kSpring-2,  R.kRed,R.kOrange+6],\n",
    "#           'leg': ['L{0:d}'.format(l) for l in range(8)],\n",
    "          'y': (0, 0.3),\n",
    "          'x': (20, 120),\n",
    "          'norm': 1.0,\n",
    "          'rebin': 1\n",
    "         }\n",
    "DIR_OUT = '~/pdc/muoncdata/users/bartosik/clic/studies/2020_04_21_tracker/plots'\n",
    "out = None\n",
    "# out = os.path.join(DIR_OUT, 'posZ_vtxb_IPmu.pdf')\n",
    "draw(h, config, out)"
   ]
  },
  {
   "cell_type": "code",
   "execution_count": 239,
   "metadata": {},
   "outputs": [
    {
     "data": {
      "text/plain": [
       "1.3"
      ]
     },
     "execution_count": 239,
     "metadata": {},
     "output_type": "execute_result"
    }
   ],
   "source": [
    "layer = 3\n",
    "df = dfs[1]\n",
    "df[(df['thori'] == 1) & ((df['thcil']/2).astype(int) == layer)].groupby('event')['thcil'].nunique().mean()"
   ]
  },
  {
   "cell_type": "code",
   "execution_count": 114,
   "metadata": {
    "scrolled": true
   },
   "outputs": [],
   "source": [
    "area_barrel = [[65*2 * w * n]*2 for w, n in zip([13,23,24,24], [16,15,21,29])]\n",
    "area_barrel = np.array(list(itertools.chain.from_iterable(area_barrel)), dtype=np.float32)\n",
    "area_barrel = area_barrel / 1e2"
   ]
  },
  {
   "cell_type": "code",
   "execution_count": 115,
   "metadata": {},
   "outputs": [
    {
     "name": "stdout",
     "output_type": "stream",
     "text": [
      "270.40, 270.40, 448.50, 448.50, 655.20, 655.20, 904.80, 904.80\n"
     ]
    }
   ],
   "source": [
    "print(', '.join(['{0:.2f}'.format(v) for v in (area_barrel)]))"
   ]
  },
  {
   "cell_type": "code",
   "execution_count": 117,
   "metadata": {},
   "outputs": [
    {
     "name": "stdout",
     "output_type": "stream",
     "text": [
      "461.08, 383.91, 74.47, 63.20, 38.30, 34.92, 21.46, 19.48\n"
     ]
    }
   ],
   "source": [
    "print(', '.join(['{0:.2f}'.format(v) for v in (nhits.values / area_barrel)]))"
   ]
  },
  {
   "cell_type": "code",
   "execution_count": 69,
   "metadata": {},
   "outputs": [
    {
     "data": {
      "text/plain": [
       "event  stmcp\n",
       "0      8939      5\n",
       "       8941      6\n",
       "       9116      2\n",
       "       12001     4\n",
       "       12021     2\n",
       "                ..\n",
       "2992   21217     9\n",
       "       21255    18\n",
       "       21280    20\n",
       "       21347    12\n",
       "       21589    12\n",
       "Name: stcil, Length: 117586, dtype: int64"
      ]
     },
     "execution_count": 69,
     "metadata": {},
     "output_type": "execute_result"
    }
   ],
   "source": [
    "df[(df['stori'] == 1) & (df['stcis'] == 0) & (df['sttim'].abs() < 0.3)].groupby(['event', 'stmcp'])['stcil'].count()"
   ]
  },
  {
   "cell_type": "code",
   "execution_count": 100,
   "metadata": {},
   "outputs": [
    {
     "data": {
      "text/plain": [
       "array([1.64153726, 1.63254409, 1.56438834, 1.55379747, 1.65796345,\n",
       "       1.59221077, 1.94780988, 1.85318275])"
      ]
     },
     "execution_count": 100,
     "metadata": {},
     "output_type": "execute_result"
    }
   ],
   "source": [
    "np.array([756.88, 626.75, 116.5, 98.2, 63.5, 55.6, 41.8, 36.1]) / np.array([461.08, 383.91, 74.47, 63.20, 38.30, 34.92, 21.46, 19.48])"
   ]
  },
  {
   "cell_type": "code",
   "execution_count": 108,
   "metadata": {},
   "outputs": [
    {
     "data": {
      "text/plain": [
       "375231"
      ]
     },
     "execution_count": 108,
     "metadata": {},
     "output_type": "execute_result"
    }
   ],
   "source": [
    "nhits.sum()"
   ]
  },
  {
   "cell_type": "code",
   "execution_count": 107,
   "metadata": {},
   "outputs": [
    {
     "data": {
      "text/html": [
       "<div>\n",
       "<style scoped>\n",
       "    .dataframe tbody tr th:only-of-type {\n",
       "        vertical-align: middle;\n",
       "    }\n",
       "\n",
       "    .dataframe tbody tr th {\n",
       "        vertical-align: top;\n",
       "    }\n",
       "\n",
       "    .dataframe thead th {\n",
       "        text-align: right;\n",
       "    }\n",
       "</style>\n",
       "<table border=\"1\" class=\"dataframe\">\n",
       "  <thead>\n",
       "    <tr style=\"text-align: right;\">\n",
       "      <th></th>\n",
       "      <th>stori</th>\n",
       "      <th>stpox</th>\n",
       "      <th>stpoy</th>\n",
       "      <th>stpoz</th>\n",
       "      <th>stpor</th>\n",
       "      <th>stci0</th>\n",
       "      <th>stci1</th>\n",
       "      <th>sttim</th>\n",
       "      <th>stedp</th>\n",
       "      <th>stmcp</th>\n",
       "      <th>event</th>\n",
       "      <th>stcis</th>\n",
       "      <th>stcil</th>\n",
       "    </tr>\n",
       "  </thead>\n",
       "  <tbody>\n",
       "    <tr>\n",
       "      <th>1</th>\n",
       "      <td>1</td>\n",
       "      <td>28.552599</td>\n",
       "      <td>-17.006291</td>\n",
       "      <td>34.366160</td>\n",
       "      <td>33.233490</td>\n",
       "      <td>114817</td>\n",
       "      <td>0</td>\n",
       "      <td>-0.147023</td>\n",
       "      <td>16.502387</td>\n",
       "      <td>21899</td>\n",
       "      <td>0</td>\n",
       "      <td>0</td>\n",
       "      <td>1</td>\n",
       "    </tr>\n",
       "    <tr>\n",
       "      <th>2</th>\n",
       "      <td>1</td>\n",
       "      <td>27.685557</td>\n",
       "      <td>-17.873333</td>\n",
       "      <td>32.661826</td>\n",
       "      <td>32.953696</td>\n",
       "      <td>114817</td>\n",
       "      <td>0</td>\n",
       "      <td>-0.132485</td>\n",
       "      <td>41.089083</td>\n",
       "      <td>21899</td>\n",
       "      <td>0</td>\n",
       "      <td>0</td>\n",
       "      <td>1</td>\n",
       "    </tr>\n",
       "    <tr>\n",
       "      <th>3</th>\n",
       "      <td>1</td>\n",
       "      <td>28.329954</td>\n",
       "      <td>-17.228936</td>\n",
       "      <td>29.075462</td>\n",
       "      <td>33.157541</td>\n",
       "      <td>114817</td>\n",
       "      <td>0</td>\n",
       "      <td>-0.089869</td>\n",
       "      <td>52.494157</td>\n",
       "      <td>21899</td>\n",
       "      <td>0</td>\n",
       "      <td>0</td>\n",
       "      <td>1</td>\n",
       "    </tr>\n",
       "    <tr>\n",
       "      <th>4</th>\n",
       "      <td>1</td>\n",
       "      <td>28.344582</td>\n",
       "      <td>-17.227883</td>\n",
       "      <td>29.109116</td>\n",
       "      <td>33.169493</td>\n",
       "      <td>114817</td>\n",
       "      <td>0</td>\n",
       "      <td>-0.089461</td>\n",
       "      <td>113.167669</td>\n",
       "      <td>21899</td>\n",
       "      <td>0</td>\n",
       "      <td>0</td>\n",
       "      <td>1</td>\n",
       "    </tr>\n",
       "    <tr>\n",
       "      <th>5</th>\n",
       "      <td>1</td>\n",
       "      <td>-99.460321</td>\n",
       "      <td>31.171165</td>\n",
       "      <td>20.281696</td>\n",
       "      <td>104.230500</td>\n",
       "      <td>107393</td>\n",
       "      <td>0</td>\n",
       "      <td>-0.133518</td>\n",
       "      <td>184.450837</td>\n",
       "      <td>21837</td>\n",
       "      <td>0</td>\n",
       "      <td>0</td>\n",
       "      <td>7</td>\n",
       "    </tr>\n",
       "    <tr>\n",
       "      <th>...</th>\n",
       "      <td>...</td>\n",
       "      <td>...</td>\n",
       "      <td>...</td>\n",
       "      <td>...</td>\n",
       "      <td>...</td>\n",
       "      <td>...</td>\n",
       "      <td>...</td>\n",
       "      <td>...</td>\n",
       "      <td>...</td>\n",
       "      <td>...</td>\n",
       "      <td>...</td>\n",
       "      <td>...</td>\n",
       "      <td>...</td>\n",
       "    </tr>\n",
       "    <tr>\n",
       "      <th>11200280</th>\n",
       "      <td>1</td>\n",
       "      <td>18.382989</td>\n",
       "      <td>-49.980567</td>\n",
       "      <td>18.659931</td>\n",
       "      <td>53.254027</td>\n",
       "      <td>98689</td>\n",
       "      <td>0</td>\n",
       "      <td>0.099070</td>\n",
       "      <td>16.168402</td>\n",
       "      <td>21589</td>\n",
       "      <td>2992</td>\n",
       "      <td>0</td>\n",
       "      <td>3</td>\n",
       "    </tr>\n",
       "    <tr>\n",
       "      <th>11200281</th>\n",
       "      <td>1</td>\n",
       "      <td>19.607565</td>\n",
       "      <td>-49.582678</td>\n",
       "      <td>16.302100</td>\n",
       "      <td>53.318839</td>\n",
       "      <td>98689</td>\n",
       "      <td>0</td>\n",
       "      <td>0.113460</td>\n",
       "      <td>16.054686</td>\n",
       "      <td>21589</td>\n",
       "      <td>2992</td>\n",
       "      <td>0</td>\n",
       "      <td>3</td>\n",
       "    </tr>\n",
       "    <tr>\n",
       "      <th>11200282</th>\n",
       "      <td>1</td>\n",
       "      <td>18.306690</td>\n",
       "      <td>-50.005358</td>\n",
       "      <td>14.886359</td>\n",
       "      <td>53.251016</td>\n",
       "      <td>98689</td>\n",
       "      <td>0</td>\n",
       "      <td>0.124022</td>\n",
       "      <td>25.464626</td>\n",
       "      <td>21589</td>\n",
       "      <td>2992</td>\n",
       "      <td>0</td>\n",
       "      <td>3</td>\n",
       "    </tr>\n",
       "    <tr>\n",
       "      <th>11200283</th>\n",
       "      <td>1</td>\n",
       "      <td>19.524303</td>\n",
       "      <td>-49.609732</td>\n",
       "      <td>13.789396</td>\n",
       "      <td>53.313449</td>\n",
       "      <td>98689</td>\n",
       "      <td>0</td>\n",
       "      <td>0.138996</td>\n",
       "      <td>35.712874</td>\n",
       "      <td>21589</td>\n",
       "      <td>2992</td>\n",
       "      <td>0</td>\n",
       "      <td>3</td>\n",
       "    </tr>\n",
       "    <tr>\n",
       "      <th>11200284</th>\n",
       "      <td>1</td>\n",
       "      <td>18.283605</td>\n",
       "      <td>-50.012859</td>\n",
       "      <td>13.349445</td>\n",
       "      <td>53.250129</td>\n",
       "      <td>98689</td>\n",
       "      <td>0</td>\n",
       "      <td>0.148697</td>\n",
       "      <td>46.823545</td>\n",
       "      <td>21589</td>\n",
       "      <td>2992</td>\n",
       "      <td>0</td>\n",
       "      <td>3</td>\n",
       "    </tr>\n",
       "  </tbody>\n",
       "</table>\n",
       "<p>375290 rows × 13 columns</p>\n",
       "</div>"
      ],
      "text/plain": [
       "          stori      stpox      stpoy      stpoz       stpor   stci0  stci1  \\\n",
       "1             1  28.552599 -17.006291  34.366160   33.233490  114817      0   \n",
       "2             1  27.685557 -17.873333  32.661826   32.953696  114817      0   \n",
       "3             1  28.329954 -17.228936  29.075462   33.157541  114817      0   \n",
       "4             1  28.344582 -17.227883  29.109116   33.169493  114817      0   \n",
       "5             1 -99.460321  31.171165  20.281696  104.230500  107393      0   \n",
       "...         ...        ...        ...        ...         ...     ...    ...   \n",
       "11200280      1  18.382989 -49.980567  18.659931   53.254027   98689      0   \n",
       "11200281      1  19.607565 -49.582678  16.302100   53.318839   98689      0   \n",
       "11200282      1  18.306690 -50.005358  14.886359   53.251016   98689      0   \n",
       "11200283      1  19.524303 -49.609732  13.789396   53.313449   98689      0   \n",
       "11200284      1  18.283605 -50.012859  13.349445   53.250129   98689      0   \n",
       "\n",
       "             sttim       stedp  stmcp  event  stcis  stcil  \n",
       "1        -0.147023   16.502387  21899      0      0      1  \n",
       "2        -0.132485   41.089083  21899      0      0      1  \n",
       "3        -0.089869   52.494157  21899      0      0      1  \n",
       "4        -0.089461  113.167669  21899      0      0      1  \n",
       "5        -0.133518  184.450837  21837      0      0      7  \n",
       "...            ...         ...    ...    ...    ...    ...  \n",
       "11200280  0.099070   16.168402  21589   2992      0      3  \n",
       "11200281  0.113460   16.054686  21589   2992      0      3  \n",
       "11200282  0.124022   25.464626  21589   2992      0      3  \n",
       "11200283  0.138996   35.712874  21589   2992      0      3  \n",
       "11200284  0.148697   46.823545  21589   2992      0      3  \n",
       "\n",
       "[375290 rows x 13 columns]"
      ]
     },
     "execution_count": 107,
     "metadata": {},
     "output_type": "execute_result"
    }
   ],
   "source": [
    "df[(df['stpor'] < 120) & (df['stpoz'].abs() < 70) & (df['sttim'].abs() < 0.15)]"
   ]
  },
  {
   "cell_type": "code",
   "execution_count": 157,
   "metadata": {},
   "outputs": [
    {
     "name": "stdout",
     "output_type": "stream",
     "text": [
      "******************************************************************************\n",
      "*Tree    :MyLCTuple : columnwise ntuple with LCIO data                       *\n",
      "*Entries :   100000 : Total =       202208544 bytes  File  Size =  104152913 *\n",
      "*        :          : Tree compression factor =   1.94                       *\n",
      "******************************************************************************\n",
      "*Br    0 :evevt     : evevt/I                                                *\n",
      "*Entries :   100000 : Total  Size=     401024 bytes  File Size  =     140125 *\n",
      "*Baskets :        7 : Basket Size=     115200 bytes  Compression=   2.86     *\n",
      "*............................................................................*\n",
      "*Br    1 :evrun     : evrun/I                                                *\n",
      "*Entries :   100000 : Total  Size=     401024 bytes  File Size  =       2511 *\n",
      "*Baskets :        7 : Basket Size=     115200 bytes  Compression= 159.51     *\n",
      "*............................................................................*\n",
      "*Br    2 :evwgt     : evwgt/F                                                *\n",
      "*Entries :   100000 : Total  Size=     401024 bytes  File Size  =       2746 *\n",
      "*Baskets :        7 : Basket Size=     115200 bytes  Compression= 145.86     *\n",
      "*............................................................................*\n",
      "*Br    3 :evtim     : evtim/L                                                *\n",
      "*Entries :   100000 : Total  Size=     801380 bytes  File Size  =       4696 *\n",
      "*Baskets :       11 : Basket Size=     229888 bytes  Compression= 170.54     *\n",
      "*............................................................................*\n",
      "*Br    4 :evsig     : evsig/F                                                *\n",
      "*Entries :   100000 : Total  Size=     401024 bytes  File Size  =       2511 *\n",
      "*Baskets :        7 : Basket Size=     115200 bytes  Compression= 159.51     *\n",
      "*............................................................................*\n",
      "*Br    5 :evene     : evene/F                                                *\n",
      "*Entries :   100000 : Total  Size=     401024 bytes  File Size  =       2511 *\n",
      "*Baskets :        7 : Basket Size=     115200 bytes  Compression= 159.51     *\n",
      "*............................................................................*\n",
      "*Br    6 :evpoe     : evpoe/F                                                *\n",
      "*Entries :   100000 : Total  Size=     401024 bytes  File Size  =       2511 *\n",
      "*Baskets :        7 : Basket Size=     115200 bytes  Compression= 159.51     *\n",
      "*............................................................................*\n",
      "*Br    7 :evpop     : evpop/F                                                *\n",
      "*Entries :   100000 : Total  Size=     401024 bytes  File Size  =       2511 *\n",
      "*Baskets :        7 : Basket Size=     115200 bytes  Compression= 159.51     *\n",
      "*............................................................................*\n",
      "*Br    8 :evnch     : evnch/I                                                *\n",
      "*Entries :   100000 : Total  Size=     401024 bytes  File Size  =       2511 *\n",
      "*Baskets :        7 : Basket Size=     115200 bytes  Compression= 159.51     *\n",
      "*............................................................................*\n",
      "*Br    9 :evpro     : evpro[evnch]/C                                         *\n",
      "*Entries :   100000 : Total  Size=     501656 bytes  File Size  =     141980 *\n",
      "*Baskets :       12 : Basket Size=     373248 bytes  Compression=   3.53     *\n",
      "*............................................................................*\n",
      "*Br   10 :nsth      : nsth/I                                                 *\n",
      "*Entries :   100000 : Total  Size=     401013 bytes  File Size  =      94951 *\n",
      "*Baskets :        7 : Basket Size=     115200 bytes  Compression=   4.22     *\n",
      "*............................................................................*\n",
      "*Br   11 :stori     : stori[nsth]/I                                          *\n",
      "*Entries :   100000 : Total  Size=    5729247 bytes  File Size  =     750158 *\n",
      "*Baskets :       58 : Basket Size=    1873920 bytes  Compression=   7.64     *\n",
      "*............................................................................*\n",
      "*Br   12 :stci0     : stci0[nsth]/I                                          *\n",
      "*Entries :   100000 : Total  Size=    5729247 bytes  File Size  =    2809473 *\n",
      "*Baskets :       58 : Basket Size=    1873920 bytes  Compression=   2.04     *\n",
      "*............................................................................*\n",
      "*Br   13 :stci1     : stci1[nsth]/I                                          *\n",
      "*Entries :   100000 : Total  Size=    5729247 bytes  File Size  =     234900 *\n",
      "*Baskets :       58 : Basket Size=    1873920 bytes  Compression=  24.38     *\n",
      "*............................................................................*\n",
      "*Br   14 :stpox     : stpox[nsth]/D                                          *\n",
      "*Entries :   100000 : Total  Size=   11057074 bytes  File Size  =   10238239 *\n",
      "*Baskets :      106 : Basket Size=    3402752 bytes  Compression=   1.08     *\n",
      "*............................................................................*\n",
      "*Br   15 :stpoy     : stpoy[nsth]/D                                          *\n",
      "*Entries :   100000 : Total  Size=   11057074 bytes  File Size  =   10329548 *\n",
      "*Baskets :      106 : Basket Size=    3402752 bytes  Compression=   1.07     *\n",
      "*............................................................................*\n",
      "*Br   16 :stpoz     : stpoz[nsth]/D                                          *\n",
      "*Entries :   100000 : Total  Size=   11057074 bytes  File Size  =    7680634 *\n",
      "*Baskets :      106 : Basket Size=    3402752 bytes  Compression=   1.44     *\n",
      "*............................................................................*\n",
      "*Br   17 :stedp     : stedp[nsth]/F                                          *\n",
      "*Entries :   100000 : Total  Size=    5729254 bytes  File Size  =    4964352 *\n",
      "*Baskets :       58 : Basket Size=    1873920 bytes  Compression=   1.15     *\n",
      "*............................................................................*\n",
      "*Br   18 :sttim     : sttim[nsth]/F                                          *\n",
      "*Entries :   100000 : Total  Size=    5729254 bytes  File Size  =    5047500 *\n",
      "*Baskets :       58 : Basket Size=    1873920 bytes  Compression=   1.13     *\n",
      "*............................................................................*\n",
      "*Br   19 :stmox     : stmox[nsth]/F                                          *\n",
      "*Entries :   100000 : Total  Size=    5729254 bytes  File Size  =    5224892 *\n",
      "*Baskets :       58 : Basket Size=    1873920 bytes  Compression=   1.10     *\n",
      "*............................................................................*\n",
      "*Br   20 :stmoy     : stmoy[nsth]/F                                          *\n",
      "*Entries :   100000 : Total  Size=    5729254 bytes  File Size  =    5223802 *\n",
      "*Baskets :       58 : Basket Size=    1873920 bytes  Compression=   1.10     *\n",
      "*............................................................................*\n",
      "*Br   21 :stmoz     : stmoz[nsth]/F                                          *\n",
      "*Entries :   100000 : Total  Size=    5729254 bytes  File Size  =    4987404 *\n",
      "*Baskets :       58 : Basket Size=    1873920 bytes  Compression=   1.15     *\n",
      "*............................................................................*\n",
      "*Br   22 :stptl     : stptl[nsth]/F                                          *\n",
      "*Entries :   100000 : Total  Size=    5729254 bytes  File Size  =    4729799 *\n",
      "*Baskets :       58 : Basket Size=    1873920 bytes  Compression=   1.21     *\n",
      "*............................................................................*\n",
      "*Br   23 :stmcp     : stmcp[nsth]/I                                          *\n",
      "*Entries :   100000 : Total  Size=    5729247 bytes  File Size  =     234986 *\n",
      "*Baskets :       58 : Basket Size=    1873920 bytes  Compression=  24.37     *\n",
      "*............................................................................*\n",
      "*Br   24 :ntrh      : ntrh/I                                                 *\n",
      "*Entries :   100000 : Total  Size=     401013 bytes  File Size  =      92798 *\n",
      "*Baskets :        7 : Basket Size=     115200 bytes  Compression=   4.32     *\n",
      "*............................................................................*\n",
      "*Br   25 :thori     : thori[ntrh]/I                                          *\n",
      "*Entries :   100000 : Total  Size=    5482217 bytes  File Size  =     727486 *\n",
      "*Baskets :       56 : Basket Size=    1802240 bytes  Compression=   7.53     *\n",
      "*............................................................................*\n",
      "*Br   26 :thci0     : thci0[ntrh]/I                                          *\n",
      "*Entries :   100000 : Total  Size=    5482217 bytes  File Size  =    2703577 *\n",
      "*Baskets :       56 : Basket Size=    1802240 bytes  Compression=   2.03     *\n",
      "*............................................................................*\n",
      "*Br   27 :thci1     : thci1[ntrh]/I                                          *\n",
      "*Entries :   100000 : Total  Size=    5482217 bytes  File Size  =     231545 *\n",
      "*Baskets :       56 : Basket Size=    1802240 bytes  Compression=  23.67     *\n",
      "*............................................................................*\n",
      "*Br   28 :thpox     : thpox[ntrh]/D                                          *\n",
      "*Entries :   100000 : Total  Size=   10563014 bytes  File Size  =    9769480 *\n",
      "*Baskets :      102 : Basket Size=    3259904 bytes  Compression=   1.08     *\n",
      "*............................................................................*\n",
      "*Br   29 :thpoy     : thpoy[ntrh]/D                                          *\n",
      "*Entries :   100000 : Total  Size=   10563014 bytes  File Size  =    9860488 *\n",
      "*Baskets :      102 : Basket Size=    3259904 bytes  Compression=   1.07     *\n",
      "*............................................................................*\n",
      "*Br   30 :thpoz     : thpoz[ntrh]/D                                          *\n",
      "*Entries :   100000 : Total  Size=   10563014 bytes  File Size  =    7071174 *\n",
      "*Baskets :      102 : Basket Size=    3259904 bytes  Compression=   1.49     *\n",
      "*............................................................................*\n",
      "*Br   31 :thedp     : thedp[ntrh]/F                                          *\n",
      "*Entries :   100000 : Total  Size=    5482224 bytes  File Size  =    4736805 *\n",
      "*Baskets :       56 : Basket Size=    1802240 bytes  Compression=   1.16     *\n",
      "*............................................................................*\n",
      "*Br   32 :thtim     : thtim[ntrh]/F                                          *\n",
      "*Entries :   100000 : Total  Size=    5482224 bytes  File Size  =    4948545 *\n",
      "*Baskets :       56 : Basket Size=    1802240 bytes  Compression=   1.11     *\n",
      "*............................................................................*\n",
      "*Br   33 :thcov     : thcov[ntrh][6]/F                                       *\n",
      "*Entries :   100000 : Total  Size=   30886035 bytes  File Size  =     442717 *\n",
      "*Baskets :      285 : Basket Size=    9089536 bytes  Compression=  69.75     *\n",
      "*............................................................................*\n",
      "*Br   34 :thtyp     : thtyp[ntrh]/F                                          *\n",
      "*Entries :   100000 : Total  Size=    5482224 bytes  File Size  =     231545 *\n",
      "*Baskets :       56 : Basket Size=    1802240 bytes  Compression=  23.67     *\n",
      "*............................................................................*\n",
      "*Br   35 :thqua     : thqua[ntrh]/F                                          *\n",
      "*Entries :   100000 : Total  Size=    5482224 bytes  File Size  =     231545 *\n",
      "*Baskets :       56 : Basket Size=    1802240 bytes  Compression=  23.67     *\n",
      "*............................................................................*\n",
      "*Br   36 :thede     : thede[ntrh]/F                                          *\n",
      "*Entries :   100000 : Total  Size=    5482224 bytes  File Size  =     231545 *\n",
      "*Baskets :       56 : Basket Size=    1802240 bytes  Compression=  23.67     *\n",
      "*............................................................................*\n"
     ]
    }
   ],
   "source": [
    "tree.Print()"
   ]
  },
  {
   "cell_type": "code",
   "execution_count": 188,
   "metadata": {},
   "outputs": [
    {
     "data": {
      "text/plain": [
       "(1893698, 11)"
      ]
     },
     "execution_count": 188,
     "metadata": {},
     "output_type": "execute_result"
    }
   ],
   "source": [
    "dfs[2].shape"
   ]
  },
  {
   "cell_type": "code",
   "execution_count": 28,
   "metadata": {},
   "outputs": [
    {
     "data": {
      "text/plain": [
       "43873.0"
      ]
     },
     "execution_count": 28,
     "metadata": {},
     "output_type": "execute_result"
    }
   ],
   "source": [
    "histos[0]['nLayerHits'].Integral()"
   ]
  },
  {
   "cell_type": "code",
   "execution_count": 64,
   "metadata": {},
   "outputs": [
    {
     "data": {
      "text/html": [
       "<div>\n",
       "<style scoped>\n",
       "    .dataframe tbody tr th:only-of-type {\n",
       "        vertical-align: middle;\n",
       "    }\n",
       "\n",
       "    .dataframe tbody tr th {\n",
       "        vertical-align: top;\n",
       "    }\n",
       "\n",
       "    .dataframe thead th {\n",
       "        text-align: right;\n",
       "    }\n",
       "</style>\n",
       "<table border=\"1\" class=\"dataframe\">\n",
       "  <thead>\n",
       "    <tr style=\"text-align: right;\">\n",
       "      <th></th>\n",
       "      <th>thori</th>\n",
       "      <th>thpoz</th>\n",
       "      <th>ththeta</th>\n",
       "      <th>thphi</th>\n",
       "      <th>thpor</th>\n",
       "      <th>thci0</th>\n",
       "      <th>thtim</th>\n",
       "      <th>thedp</th>\n",
       "      <th>event</th>\n",
       "      <th>thcis</th>\n",
       "      <th>thcil</th>\n",
       "    </tr>\n",
       "  </thead>\n",
       "  <tbody>\n",
       "    <tr>\n",
       "      <th>0</th>\n",
       "      <td>1</td>\n",
       "      <td>-12.810598</td>\n",
       "      <td>1.968079</td>\n",
       "      <td>1.415809</td>\n",
       "      <td>30.530961</td>\n",
       "      <td>1</td>\n",
       "      <td>-0.065874</td>\n",
       "      <td>13.087772</td>\n",
       "      <td>0</td>\n",
       "      <td>0</td>\n",
       "      <td>0</td>\n",
       "    </tr>\n",
       "    <tr>\n",
       "      <th>1</th>\n",
       "      <td>1</td>\n",
       "      <td>-13.686300</td>\n",
       "      <td>1.968201</td>\n",
       "      <td>1.415606</td>\n",
       "      <td>32.606864</td>\n",
       "      <td>129</td>\n",
       "      <td>0.025762</td>\n",
       "      <td>14.222563</td>\n",
       "      <td>0</td>\n",
       "      <td>0</td>\n",
       "      <td>1</td>\n",
       "    </tr>\n",
       "    <tr>\n",
       "      <th>2</th>\n",
       "      <td>1</td>\n",
       "      <td>-21.753330</td>\n",
       "      <td>1.968284</td>\n",
       "      <td>1.412358</td>\n",
       "      <td>51.813979</td>\n",
       "      <td>257</td>\n",
       "      <td>0.011077</td>\n",
       "      <td>25.590401</td>\n",
       "      <td>0</td>\n",
       "      <td>0</td>\n",
       "      <td>2</td>\n",
       "    </tr>\n",
       "    <tr>\n",
       "      <th>3</th>\n",
       "      <td>1</td>\n",
       "      <td>-22.619673</td>\n",
       "      <td>1.968185</td>\n",
       "      <td>1.412060</td>\n",
       "      <td>53.892551</td>\n",
       "      <td>385</td>\n",
       "      <td>-0.040535</td>\n",
       "      <td>19.866040</td>\n",
       "      <td>0</td>\n",
       "      <td>0</td>\n",
       "      <td>3</td>\n",
       "    </tr>\n",
       "    <tr>\n",
       "      <th>4</th>\n",
       "      <td>1</td>\n",
       "      <td>-31.533478</td>\n",
       "      <td>1.968073</td>\n",
       "      <td>1.408417</td>\n",
       "      <td>75.153608</td>\n",
       "      <td>513</td>\n",
       "      <td>0.025961</td>\n",
       "      <td>14.307265</td>\n",
       "      <td>0</td>\n",
       "      <td>0</td>\n",
       "      <td>4</td>\n",
       "    </tr>\n",
       "    <tr>\n",
       "      <th>...</th>\n",
       "      <td>...</td>\n",
       "      <td>...</td>\n",
       "      <td>...</td>\n",
       "      <td>...</td>\n",
       "      <td>...</td>\n",
       "      <td>...</td>\n",
       "      <td>...</td>\n",
       "      <td>...</td>\n",
       "      <td>...</td>\n",
       "      <td>...</td>\n",
       "      <td>...</td>\n",
       "    </tr>\n",
       "    <tr>\n",
       "      <th>380142</th>\n",
       "      <td>1</td>\n",
       "      <td>46.072618</td>\n",
       "      <td>1.156921</td>\n",
       "      <td>2.323919</td>\n",
       "      <td>104.890163</td>\n",
       "      <td>205697</td>\n",
       "      <td>-0.066454</td>\n",
       "      <td>10.813507</td>\n",
       "      <td>29999</td>\n",
       "      <td>0</td>\n",
       "      <td>7</td>\n",
       "    </tr>\n",
       "    <tr>\n",
       "      <th>380143</th>\n",
       "      <td>3</td>\n",
       "      <td>56.889287</td>\n",
       "      <td>1.157556</td>\n",
       "      <td>2.308640</td>\n",
       "      <td>129.739500</td>\n",
       "      <td>285417475</td>\n",
       "      <td>-0.014627</td>\n",
       "      <td>81.989638</td>\n",
       "      <td>29999</td>\n",
       "      <td>0</td>\n",
       "      <td>0</td>\n",
       "    </tr>\n",
       "    <tr>\n",
       "      <th>380144</th>\n",
       "      <td>3</td>\n",
       "      <td>152.563473</td>\n",
       "      <td>1.151830</td>\n",
       "      <td>2.175296</td>\n",
       "      <td>342.582382</td>\n",
       "      <td>352886915</td>\n",
       "      <td>0.065595</td>\n",
       "      <td>44.581157</td>\n",
       "      <td>29999</td>\n",
       "      <td>0</td>\n",
       "      <td>1</td>\n",
       "    </tr>\n",
       "    <tr>\n",
       "      <th>380145</th>\n",
       "      <td>3</td>\n",
       "      <td>251.253467</td>\n",
       "      <td>1.146704</td>\n",
       "      <td>2.037239</td>\n",
       "      <td>556.498622</td>\n",
       "      <td>521036035</td>\n",
       "      <td>0.119200</td>\n",
       "      <td>26.863681</td>\n",
       "      <td>29999</td>\n",
       "      <td>0</td>\n",
       "      <td>2</td>\n",
       "    </tr>\n",
       "    <tr>\n",
       "      <th>380146</th>\n",
       "      <td>5</td>\n",
       "      <td>378.647804</td>\n",
       "      <td>1.136915</td>\n",
       "      <td>1.858607</td>\n",
       "      <td>817.235942</td>\n",
       "      <td>907411461</td>\n",
       "      <td>0.041194</td>\n",
       "      <td>31.501739</td>\n",
       "      <td>29999</td>\n",
       "      <td>0</td>\n",
       "      <td>0</td>\n",
       "    </tr>\n",
       "  </tbody>\n",
       "</table>\n",
       "<p>380147 rows × 11 columns</p>\n",
       "</div>"
      ],
      "text/plain": [
       "        thori       thpoz   ththeta     thphi       thpor      thci0  \\\n",
       "0           1  -12.810598  1.968079  1.415809   30.530961          1   \n",
       "1           1  -13.686300  1.968201  1.415606   32.606864        129   \n",
       "2           1  -21.753330  1.968284  1.412358   51.813979        257   \n",
       "3           1  -22.619673  1.968185  1.412060   53.892551        385   \n",
       "4           1  -31.533478  1.968073  1.408417   75.153608        513   \n",
       "...       ...         ...       ...       ...         ...        ...   \n",
       "380142      1   46.072618  1.156921  2.323919  104.890163     205697   \n",
       "380143      3   56.889287  1.157556  2.308640  129.739500  285417475   \n",
       "380144      3  152.563473  1.151830  2.175296  342.582382  352886915   \n",
       "380145      3  251.253467  1.146704  2.037239  556.498622  521036035   \n",
       "380146      5  378.647804  1.136915  1.858607  817.235942  907411461   \n",
       "\n",
       "           thtim      thedp  event  thcis  thcil  \n",
       "0      -0.065874  13.087772      0      0      0  \n",
       "1       0.025762  14.222563      0      0      1  \n",
       "2       0.011077  25.590401      0      0      2  \n",
       "3      -0.040535  19.866040      0      0      3  \n",
       "4       0.025961  14.307265      0      0      4  \n",
       "...          ...        ...    ...    ...    ...  \n",
       "380142 -0.066454  10.813507  29999      0      7  \n",
       "380143 -0.014627  81.989638  29999      0      0  \n",
       "380144  0.065595  44.581157  29999      0      1  \n",
       "380145  0.119200  26.863681  29999      0      2  \n",
       "380146  0.041194  31.501739  29999      0      0  \n",
       "\n",
       "[380147 rows x 11 columns]"
      ]
     },
     "execution_count": 64,
     "metadata": {},
     "output_type": "execute_result"
    }
   ],
   "source": []
  },
  {
   "cell_type": "code",
   "execution_count": 72,
   "metadata": {},
   "outputs": [
    {
     "ename": "KeyError",
     "evalue": "'thpox'",
     "output_type": "error",
     "traceback": [
      "\u001b[0;31m---------------------------------------------------------------------------\u001b[0m",
      "\u001b[0;31mKeyError\u001b[0m                                  Traceback (most recent call last)",
      "\u001b[0;32m~/Cernbox/work/mu_collider/clic/lib/python3.7/site-packages/pandas/core/indexes/base.py\u001b[0m in \u001b[0;36mget_loc\u001b[0;34m(self, key, method, tolerance)\u001b[0m\n\u001b[1;32m   2645\u001b[0m             \u001b[0;32mtry\u001b[0m\u001b[0;34m:\u001b[0m\u001b[0;34m\u001b[0m\u001b[0m\n\u001b[0;32m-> 2646\u001b[0;31m                 \u001b[0;32mreturn\u001b[0m \u001b[0mself\u001b[0m\u001b[0;34m.\u001b[0m\u001b[0m_engine\u001b[0m\u001b[0;34m.\u001b[0m\u001b[0mget_loc\u001b[0m\u001b[0;34m(\u001b[0m\u001b[0mkey\u001b[0m\u001b[0;34m)\u001b[0m\u001b[0;34m\u001b[0m\u001b[0m\n\u001b[0m\u001b[1;32m   2647\u001b[0m             \u001b[0;32mexcept\u001b[0m \u001b[0mKeyError\u001b[0m\u001b[0;34m:\u001b[0m\u001b[0;34m\u001b[0m\u001b[0m\n",
      "\u001b[0;32mpandas/_libs/index.pyx\u001b[0m in \u001b[0;36mpandas._libs.index.IndexEngine.get_loc\u001b[0;34m()\u001b[0m\n",
      "\u001b[0;32mpandas/_libs/index.pyx\u001b[0m in \u001b[0;36mpandas._libs.index.IndexEngine.get_loc\u001b[0;34m()\u001b[0m\n",
      "\u001b[0;32mpandas/_libs/hashtable_class_helper.pxi\u001b[0m in \u001b[0;36mpandas._libs.hashtable.PyObjectHashTable.get_item\u001b[0;34m()\u001b[0m\n",
      "\u001b[0;32mpandas/_libs/hashtable_class_helper.pxi\u001b[0m in \u001b[0;36mpandas._libs.hashtable.PyObjectHashTable.get_item\u001b[0;34m()\u001b[0m\n",
      "\u001b[0;31mKeyError\u001b[0m: 'thpox'",
      "\nDuring handling of the above exception, another exception occurred:\n",
      "\u001b[0;31mKeyError\u001b[0m                                  Traceback (most recent call last)",
      "\u001b[0;32m<ipython-input-72-1cc19a6318a8>\u001b[0m in \u001b[0;36m<module>\u001b[0;34m\u001b[0m\n\u001b[0;32m----> 1\u001b[0;31m \u001b[0mdfs\u001b[0m\u001b[0;34m[\u001b[0m\u001b[0;36m0\u001b[0m\u001b[0;34m]\u001b[0m\u001b[0;34m[\u001b[0m\u001b[0;34m'thl'\u001b[0m\u001b[0;34m]\u001b[0m \u001b[0;34m=\u001b[0m \u001b[0mR\u001b[0m\u001b[0;34m.\u001b[0m\u001b[0mTVector3\u001b[0m\u001b[0;34m(\u001b[0m\u001b[0mdfs\u001b[0m\u001b[0;34m[\u001b[0m\u001b[0;36m0\u001b[0m\u001b[0;34m]\u001b[0m\u001b[0;34m[\u001b[0m\u001b[0;34m'thpox'\u001b[0m\u001b[0;34m]\u001b[0m\u001b[0;34m,\u001b[0m \u001b[0mdfs\u001b[0m\u001b[0;34m[\u001b[0m\u001b[0;36m0\u001b[0m\u001b[0;34m]\u001b[0m\u001b[0;34m[\u001b[0m\u001b[0;34m'thpoy'\u001b[0m\u001b[0;34m]\u001b[0m\u001b[0;34m,\u001b[0m \u001b[0mdfs\u001b[0m\u001b[0;34m[\u001b[0m\u001b[0;36m0\u001b[0m\u001b[0;34m]\u001b[0m\u001b[0;34m[\u001b[0m\u001b[0;34m'thpoz'\u001b[0m\u001b[0;34m]\u001b[0m\u001b[0;34m)\u001b[0m\u001b[0;34m\u001b[0m\u001b[0m\n\u001b[0m",
      "\u001b[0;32m~/Cernbox/work/mu_collider/clic/lib/python3.7/site-packages/pandas/core/frame.py\u001b[0m in \u001b[0;36m__getitem__\u001b[0;34m(self, key)\u001b[0m\n\u001b[1;32m   2798\u001b[0m             \u001b[0;32mif\u001b[0m \u001b[0mself\u001b[0m\u001b[0;34m.\u001b[0m\u001b[0mcolumns\u001b[0m\u001b[0;34m.\u001b[0m\u001b[0mnlevels\u001b[0m \u001b[0;34m>\u001b[0m \u001b[0;36m1\u001b[0m\u001b[0;34m:\u001b[0m\u001b[0;34m\u001b[0m\u001b[0m\n\u001b[1;32m   2799\u001b[0m                 \u001b[0;32mreturn\u001b[0m \u001b[0mself\u001b[0m\u001b[0;34m.\u001b[0m\u001b[0m_getitem_multilevel\u001b[0m\u001b[0;34m(\u001b[0m\u001b[0mkey\u001b[0m\u001b[0;34m)\u001b[0m\u001b[0;34m\u001b[0m\u001b[0m\n\u001b[0;32m-> 2800\u001b[0;31m             \u001b[0mindexer\u001b[0m \u001b[0;34m=\u001b[0m \u001b[0mself\u001b[0m\u001b[0;34m.\u001b[0m\u001b[0mcolumns\u001b[0m\u001b[0;34m.\u001b[0m\u001b[0mget_loc\u001b[0m\u001b[0;34m(\u001b[0m\u001b[0mkey\u001b[0m\u001b[0;34m)\u001b[0m\u001b[0;34m\u001b[0m\u001b[0m\n\u001b[0m\u001b[1;32m   2801\u001b[0m             \u001b[0;32mif\u001b[0m \u001b[0mis_integer\u001b[0m\u001b[0;34m(\u001b[0m\u001b[0mindexer\u001b[0m\u001b[0;34m)\u001b[0m\u001b[0;34m:\u001b[0m\u001b[0;34m\u001b[0m\u001b[0m\n\u001b[1;32m   2802\u001b[0m                 \u001b[0mindexer\u001b[0m \u001b[0;34m=\u001b[0m \u001b[0;34m[\u001b[0m\u001b[0mindexer\u001b[0m\u001b[0;34m]\u001b[0m\u001b[0;34m\u001b[0m\u001b[0m\n",
      "\u001b[0;32m~/Cernbox/work/mu_collider/clic/lib/python3.7/site-packages/pandas/core/indexes/base.py\u001b[0m in \u001b[0;36mget_loc\u001b[0;34m(self, key, method, tolerance)\u001b[0m\n\u001b[1;32m   2646\u001b[0m                 \u001b[0;32mreturn\u001b[0m \u001b[0mself\u001b[0m\u001b[0;34m.\u001b[0m\u001b[0m_engine\u001b[0m\u001b[0;34m.\u001b[0m\u001b[0mget_loc\u001b[0m\u001b[0;34m(\u001b[0m\u001b[0mkey\u001b[0m\u001b[0;34m)\u001b[0m\u001b[0;34m\u001b[0m\u001b[0m\n\u001b[1;32m   2647\u001b[0m             \u001b[0;32mexcept\u001b[0m \u001b[0mKeyError\u001b[0m\u001b[0;34m:\u001b[0m\u001b[0;34m\u001b[0m\u001b[0m\n\u001b[0;32m-> 2648\u001b[0;31m                 \u001b[0;32mreturn\u001b[0m \u001b[0mself\u001b[0m\u001b[0;34m.\u001b[0m\u001b[0m_engine\u001b[0m\u001b[0;34m.\u001b[0m\u001b[0mget_loc\u001b[0m\u001b[0;34m(\u001b[0m\u001b[0mself\u001b[0m\u001b[0;34m.\u001b[0m\u001b[0m_maybe_cast_indexer\u001b[0m\u001b[0;34m(\u001b[0m\u001b[0mkey\u001b[0m\u001b[0;34m)\u001b[0m\u001b[0;34m)\u001b[0m\u001b[0;34m\u001b[0m\u001b[0m\n\u001b[0m\u001b[1;32m   2649\u001b[0m         \u001b[0mindexer\u001b[0m \u001b[0;34m=\u001b[0m \u001b[0mself\u001b[0m\u001b[0;34m.\u001b[0m\u001b[0mget_indexer\u001b[0m\u001b[0;34m(\u001b[0m\u001b[0;34m[\u001b[0m\u001b[0mkey\u001b[0m\u001b[0;34m]\u001b[0m\u001b[0;34m,\u001b[0m \u001b[0mmethod\u001b[0m\u001b[0;34m=\u001b[0m\u001b[0mmethod\u001b[0m\u001b[0;34m,\u001b[0m \u001b[0mtolerance\u001b[0m\u001b[0;34m=\u001b[0m\u001b[0mtolerance\u001b[0m\u001b[0;34m)\u001b[0m\u001b[0;34m\u001b[0m\u001b[0m\n\u001b[1;32m   2650\u001b[0m         \u001b[0;32mif\u001b[0m \u001b[0mindexer\u001b[0m\u001b[0;34m.\u001b[0m\u001b[0mndim\u001b[0m \u001b[0;34m>\u001b[0m \u001b[0;36m1\u001b[0m \u001b[0;32mor\u001b[0m \u001b[0mindexer\u001b[0m\u001b[0;34m.\u001b[0m\u001b[0msize\u001b[0m \u001b[0;34m>\u001b[0m \u001b[0;36m1\u001b[0m\u001b[0;34m:\u001b[0m\u001b[0;34m\u001b[0m\u001b[0m\n",
      "\u001b[0;32mpandas/_libs/index.pyx\u001b[0m in \u001b[0;36mpandas._libs.index.IndexEngine.get_loc\u001b[0;34m()\u001b[0m\n",
      "\u001b[0;32mpandas/_libs/index.pyx\u001b[0m in \u001b[0;36mpandas._libs.index.IndexEngine.get_loc\u001b[0;34m()\u001b[0m\n",
      "\u001b[0;32mpandas/_libs/hashtable_class_helper.pxi\u001b[0m in \u001b[0;36mpandas._libs.hashtable.PyObjectHashTable.get_item\u001b[0;34m()\u001b[0m\n",
      "\u001b[0;32mpandas/_libs/hashtable_class_helper.pxi\u001b[0m in \u001b[0;36mpandas._libs.hashtable.PyObjectHashTable.get_item\u001b[0;34m()\u001b[0m\n",
      "\u001b[0;31mKeyError\u001b[0m: 'thpox'"
     ]
    }
   ],
   "source": [
    "d = dfs[0]\n",
    "d['thl'] = R.TVector3(d['thpox'], d['thpoy'], d['thpoz'])"
   ]
  },
  {
   "cell_type": "code",
   "execution_count": 30,
   "metadata": {},
   "outputs": [
    {
     "data": {
      "text/plain": [
       "<ROOT.TemplateProxy at 0x13cd485e8>"
      ]
     },
     "execution_count": 30,
     "metadata": {},
     "output_type": "execute_result"
    }
   ],
   "source": [
    "R.Math.VectorUtil.DeltaR"
   ]
  },
  {
   "cell_type": "code",
   "execution_count": 83,
   "metadata": {},
   "outputs": [
    {
     "data": {
      "text/plain": [
       "(1893698, 13)"
      ]
     },
     "execution_count": 83,
     "metadata": {},
     "output_type": "execute_result"
    }
   ],
   "source": [
    "dfs[2].shape"
   ]
  },
  {
   "cell_type": "code",
   "execution_count": 438,
   "metadata": {},
   "outputs": [
    {
     "data": {
      "text/plain": [
       "<matplotlib.axes._subplots.AxesSubplot at 0x13255bf98>"
      ]
     },
     "execution_count": 438,
     "metadata": {},
     "output_type": "execute_result"
    },
    {
     "data": {
      "image/png": "[encoded data removed]",
      "text/plain": [
       "<Figure size 432x288 with 1 Axes>"
      ]
     },
     "metadata": {
      "needs_background": "light"
     },
     "output_type": "display_data"
    }
   ],
   "source": [
    "df = dfs[0]\n",
    "sel = (df['thori'] == 1) & ((df['thcil']/2).astype(int) == 2)\n",
    "sel0 = sel & (df['thcil']%2 == 0)\n",
    "sel1 = sel & (df['thcil']%2 == 1)\n",
    "df.loc[sel, 'thpor'].plot.hist(bins=40)"
   ]
  },
  {
   "cell_type": "code",
   "execution_count": 92,
   "metadata": {},
   "outputs": [],
   "source": [
    "a1 = np.array([ 1.        ,  1.28539816,  3.57079633,  0.49778714,  6.28318531])"
   ]
  },
  {
   "cell_type": "code",
   "execution_count": 96,
   "metadata": {},
   "outputs": [
    {
     "data": {
      "text/plain": [
       "0.49778714"
      ]
     },
     "execution_count": 96,
     "metadata": {},
     "output_type": "execute_result"
    }
   ],
   "source": [
    "a1[np.argmin(a1)]"
   ]
  },
  {
   "cell_type": "code",
   "execution_count": 22,
   "metadata": {},
   "outputs": [
    {
     "data": {
      "text/plain": [
       "3.141592653589793"
      ]
     },
     "execution_count": 22,
     "metadata": {},
     "output_type": "execute_result"
    }
   ],
   "source": [
    "np.pi"
   ]
  },
  {
   "cell_type": "code",
   "execution_count": 12,
   "metadata": {},
   "outputs": [],
   "source": [
    "import struct"
   ]
  },
  {
   "cell_type": "code",
   "execution_count": null,
   "metadata": {},
   "outputs": [],
   "source": []
  }
 ],
 "metadata": {
  "kernelspec": {
   "display_name": "Python 3",
   "language": "python",
   "name": "python3"
  },
  "language_info": {
   "codemirror_mode": {
    "name": "ipython",
    "version": 3
   },
   "file_extension": ".py",
   "mimetype": "text/x-python",
   "name": "python",
   "nbconvert_exporter": "python",
   "pygments_lexer": "ipython3",
   "version": "3.8.4"
  }
 },
 "nbformat": 4,
 "nbformat_minor": 2
}
