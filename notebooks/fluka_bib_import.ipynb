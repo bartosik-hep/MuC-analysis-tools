{
 "cells": [
  {
   "cell_type": "code",
   "execution_count": 50,
   "id": "0a8111a0",
   "metadata": {},
   "outputs": [],
   "source": [
    "import numpy as np\n",
    "import pandas as pd"
   ]
  },
  {
   "cell_type": "code",
   "execution_count": 2,
   "id": "2bfc72e5",
   "metadata": {},
   "outputs": [],
   "source": [
    "path_in = '/Users/nbartosi/cernbox/work/mu_collider/tests/2022_06_13_fluka_import/example_detector_particle_list10TeV/joined_data/summary_DET_IP.dat'"
   ]
  },
  {
   "cell_type": "markdown",
   "id": "c8fa5046",
   "metadata": {},
   "source": [
    "### Old data structure"
   ]
  },
  {
   "cell_type": "code",
   "execution_count": 29,
   "id": "d9f2b099",
   "metadata": {},
   "outputs": [],
   "source": [
    "line_dt=np.dtype([\n",
    "('id',  np.int32),\n",
    "('id_mthr',  np.int32),\n",
    "('E', np.float64),\n",
    "('x', np.float64),\n",
    "('y', np.float64),\n",
    "('z', np.float64),\n",
    "('cx', np.float64),\n",
    "('cy', np.float64),\n",
    "('cz', np.float64),\n",
    "('age_track', np.float64),\n",
    "('age_samp', np.float64),\n",
    "('x_samp', np.float64),\n",
    "('y_samp', np.float64),\n",
    "('z_samp', np.float64),\n",
    "('x_mthr', np.float64),\n",
    "('y_mthr', np.float64),\n",
    "('z_mthr', np.float64),\n",
    "('px_mthr', np.float64),\n",
    "('py_mthr', np.float64),\n",
    "('pz_mthr', np.float64),\n",
    "('age_mthr', np.float64)\n",
    "])"
   ]
  },
  {
   "cell_type": "markdown",
   "id": "f03f09fc",
   "metadata": {},
   "source": [
    "### New data structure"
   ]
  },
  {
   "cell_type": "code",
   "execution_count": 26,
   "id": "695fab43",
   "metadata": {},
   "outputs": [],
   "source": [
    "line_dt=np.dtype([\n",
    "('pdgId',  np.int32),\n",
    "('x', np.float64),\n",
    "('y', np.float64),\n",
    "('z', np.float64),\n",
    "('px', np.float64),\n",
    "('py', np.float64),\n",
    "('pz', np.float64),\n",
    "('t', np.float64),\n",
    "('w', np.float64),\n",
    "('x_o', np.float64),\n",
    "('y_o', np.float64),\n",
    "('z_o', np.float64),\n",
    "('px_o', np.float64),\n",
    "('py_o', np.float64),\n",
    "('pz_o', np.float64),\n",
    "('x_d', np.float64),\n",
    "('y_d', np.float64),\n",
    "('z_d', np.float64),\n",
    "('t_d', np.float64)\n",
    "])"
   ]
  },
  {
   "cell_type": "code",
   "execution_count": 30,
   "id": "65e43aea",
   "metadata": {},
   "outputs": [],
   "source": [
    "data_in = np.fromfile(path_in, dtype=line_dt, count=-1)"
   ]
  },
  {
   "cell_type": "code",
   "execution_count": 47,
   "id": "9facf598",
   "metadata": {},
   "outputs": [
    {
     "data": {
      "text/plain": [
       "(7, 7, 0.00128046, -7.34337497, 3.52738594, -46.53056225, -0.90983431, 0.31688006, 0.26793386, 2.18654021e-08, 9.45649247e-08, 0.61173425, 0.48339583, -696.01332364, -5.63856727, 2.93362995, -47.03260499, -1.16501026, 0.40575358, -60.22356697, 2.18029003e-08)"
      ]
     },
     "execution_count": 47,
     "metadata": {},
     "output_type": "execute_result"
    }
   ],
   "source": [
    "data_in[:][1]"
   ]
  },
  {
   "cell_type": "code",
   "execution_count": 15,
   "id": "9dd0b867",
   "metadata": {},
   "outputs": [
    {
     "data": {
      "text/plain": [
       "7356"
      ]
     },
     "execution_count": 15,
     "metadata": {},
     "output_type": "execute_result"
    }
   ],
   "source": [
    "len(data_in)"
   ]
  },
  {
   "cell_type": "code",
   "execution_count": 51,
   "id": "092aecf4",
   "metadata": {},
   "outputs": [],
   "source": [
    "df_in = pd.DataFrame(data_in)"
   ]
  },
  {
   "cell_type": "code",
   "execution_count": 56,
   "id": "59566124",
   "metadata": {},
   "outputs": [
    {
     "data": {
      "text/plain": [
       "array([7, 3, 8, 4, 1], dtype=int32)"
      ]
     },
     "execution_count": 56,
     "metadata": {},
     "output_type": "execute_result"
    }
   ],
   "source": [
    "df_in['id'].unique()"
   ]
  },
  {
   "cell_type": "code",
   "execution_count": null,
   "id": "01b305df",
   "metadata": {},
   "outputs": [],
   "source": []
  }
 ],
 "metadata": {
  "kernelspec": {
   "display_name": "Python 3",
   "language": "python",
   "name": "python3"
  },
  "language_info": {
   "codemirror_mode": {
    "name": "ipython",
    "version": 3
   },
   "file_extension": ".py",
   "mimetype": "text/x-python",
   "name": "python",
   "nbconvert_exporter": "python",
   "pygments_lexer": "ipython3",
   "version": "3.8.4"
  }
 },
 "nbformat": 4,
 "nbformat_minor": 5
}
