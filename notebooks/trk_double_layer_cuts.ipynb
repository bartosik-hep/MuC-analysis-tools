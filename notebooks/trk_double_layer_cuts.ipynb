{
 "cells": [
  {
   "cell_type": "code",
   "execution_count": 1,
   "metadata": {},
   "outputs": [
    {
     "name": "stdout",
     "output_type": "stream",
     "text": [
      "Welcome to JupyROOT 6.22/00\n"
     ]
    }
   ],
   "source": [
    "import ROOT as R"
   ]
  },
  {
   "cell_type": "code",
   "execution_count": 2,
   "metadata": {},
   "outputs": [],
   "source": [
    "import os\n",
    "import math"
   ]
  },
  {
   "cell_type": "markdown",
   "metadata": {},
   "source": [
    "### Effect of layer position"
   ]
  },
  {
   "cell_type": "code",
   "execution_count": 4,
   "metadata": {},
   "outputs": [],
   "source": [
    "styles = [1,1,1,1]\n",
    "colors = [12, R.kAzure+7, R.kTeal+2, 2]\n",
    "rng = {\n",
    "    'dPhi_layers_vxdb': [(-2., 2.5), (0.0, 1500)],\n",
    "    'dTheta_layers_vxdb': [(-0.5, 0.5), (0.0, 2500)]\n",
    "}\n",
    "    \n",
    "configs = {\n",
    "    'dPhi_layers_vxdb': [('pgun_mu_1per10k_6ptFalse_0res_j3.root:FilterDL_VXDB/h_dPhi_layers_'+l, 'Layers '+l.replace('_', '-')) \n",
    "                      for l in ['0_1', '2_3', '4_5', '6_7']],\n",
    "    'dTheta_layers_vxdb': [('pgun_mu_1per10k_6ptFalse_0res_j3.root:FilterDL_VXDB/h_dTheta_layers_'+l, 'Layers '+l.replace('_', '-')) \n",
    "                      for l in ['0_1', '2_3', '4_5', '6_7']]\n",
    "}"
   ]
  },
  {
   "cell_type": "markdown",
   "metadata": {},
   "source": [
    "### Effect of track Pt"
   ]
  },
  {
   "cell_type": "code",
   "execution_count": 45,
   "metadata": {},
   "outputs": [],
   "source": [
    "styles = [1,1,1,1,1]\n",
    "colors = [12, R.kAzure+7, 2]\n",
    "rng = {\n",
    "    'dPhi_pt_vxdb': [(-2.0, 2.0), (0.0, 700)],\n",
    "    'dTheta_pt_vxdb': [(-0.5, 0.5), (0.0, 3500)]\n",
    "}\n",
    "\n",
    "gev = {1: '1.0 GeV', 2: '10 GeV', 3: '100 GeV'}\n",
    "configs = {\n",
    "    'dPhi_pt_vxdb': [('pgun_mu_1per10k_3ptFalse_v0_j{0:d}.root:FilterDLl_VXDB/h_dPhi_layers_0_1'.format(j), 'p_{{T}} = {0:s}'.format(gev[j])) \n",
    "                      for j in [1,2,3]],\n",
    "    'dTheta_pt_vxdb': [('pgun_mu_1per10k_3ptFalse_v0_j{0:d}.root:FilterDLl_VXDB/h_dTheta_layers_0_1'.format(j), 'p_{{T}} = {0:s}'.format(gev[j])) \n",
    "                      for j in [1,2,3]]\n",
    "}"
   ]
  },
  {
   "cell_type": "code",
   "execution_count": 82,
   "metadata": {},
   "outputs": [],
   "source": [
    "styles = [1,1,1,1,1]\n",
    "colors = [12, R.kAzure+7, 2]\n",
    "rng = {\n",
    "    'dPhi_pt_bs_vxdb': [(-2.0, 2.0), (0.0, 700)],\n",
    "    'dTheta_pt_bs_vxdb': [(-5, 25), (1.0, 1e4)]\n",
    "}\n",
    "\n",
    "gev = {1: '1.0 GeV', 2: '10 GeV', 3: '100 GeV'}\n",
    "configs = {\n",
    "    'dPhi_pt_bs_vxdb': [('pgun_mu_1per10k_3pt_ZIP10mmFalse_v0_j{0:d}.root:FilterDLl_VXDB/h_dPhi_layers_0_1'.format(j), 'p_{{T}} = {0:s}'.format(gev[j])) \n",
    "                      for j in [1,2,3]],\n",
    "    'dTheta_pt_bs_vxdb': [('pgun_mu_1per10k_3ptFalse_v0_j1.root:FilterDLl_VXDB/h_dTheta_layers_0_1', 'IP at (0,0,0)'),\n",
    "                          ('pgun_mu_1per10k_3pt_ZIP10mmFalse_v0_j1.root:FilterDLl_VXDB/h_dTheta_layers_0_1', 'IP at Z=10mm')]\n",
    "}"
   ]
  },
  {
   "cell_type": "code",
   "execution_count": 34,
   "metadata": {},
   "outputs": [],
   "source": [
    "styles = [1,1,1,1,1]\n",
    "colors = [16, 12, R.kAzure+7, R.kTeal+2, 2]\n",
    "rng = {\n",
    "    'dPhi_pt_vxdb': [(-3.0, 3.0), (0.0, 3500)],\n",
    "    'dTheta_pt_vxdb': [(-0.5, 0.5), (0.0, 3500)]\n",
    "}\n",
    "\n",
    "gev = {2: '0.5 GeV', 3: '1.0 GeV', 4: '10 GeV', 5: '50 GeV', 6: '100 GeV'}\n",
    "configs = {\n",
    "    'dPhi_pt_vxdb': [('pgun_mu_1per10k_6ptFalse_0res_j{0:d}.root:FilterDL_VXDB/h_dPhi_layers_0_1'.format(j), 'p_{{T}} = {0:s}'.format(gev[j])) \n",
    "                      for j in [2,3,4,5,6]],\n",
    "    'dTheta_pt_vxdb': [('pgun_mu_1per10k_6ptFalse_0res_j{0:d}.root:FilterDL_VXDB/h_dTheta_layers_0_1'.format(j), 'p_{{T}} = {0:s}'.format(gev[j])) \n",
    "                      for j in [1,2]]\n",
    "}"
   ]
  },
  {
   "cell_type": "markdown",
   "metadata": {},
   "source": [
    "#### Endcap"
   ]
  },
  {
   "cell_type": "code",
   "execution_count": 226,
   "metadata": {},
   "outputs": [],
   "source": [
    "styles = [1,1,1,1,1]\n",
    "colors = [16, 12, R.kAzure+7, R.kTeal+2, 2]\n",
    "rng = {\n",
    "    'dPhi_pt_vxde': [(-3.0, 3.0), (0.0, 2000)],\n",
    "    'dTheta_pt_vxde': [(-0.5, 0.5), (0.0, 2000)]\n",
    "}\n",
    "\n",
    "gev = {2: '0.5 GeV', 3: '1.0 GeV', 4: '10 GeV', 5: '50 GeV', 6: '100 GeV'}\n",
    "configs = {\n",
    "    'dPhi_pt_vxde': [('pgun_mu_1per10k_6ptFalse_0res_j{0:d}.root:FilterDL_VXDE/h_dPhi_layers_0_1'.format(j), 'p_{{T}} = {0:s}'.format(gev[j])) \n",
    "                      for j in [2,3,4,5,6]],\n",
    "    'dTheta_pt_vxde': [('pgun_mu_1per10k_6ptFalse_0res_j{0:d}.root:FilterDL_VXDE/h_dTheta_layers_0_1'.format(j), 'p_{{T}} = {0:s}'.format(gev[j])) \n",
    "                      for j in [2,3,4,5,6]]\n",
    "}"
   ]
  },
  {
   "cell_type": "markdown",
   "metadata": {},
   "source": [
    "### Effect of pixel resolution"
   ]
  },
  {
   "cell_type": "code",
   "execution_count": 179,
   "metadata": {},
   "outputs": [],
   "source": [
    "styles = [1,1,1,1,1]\n",
    "colors = [16, 12, R.kAzure+7, R.kTeal+2, 2]\n",
    "rng = {\n",
    "    'dPhi_pt_res_vxdb': [(-3.0, 3.0), (0.0, 700)],\n",
    "    'dTheta_pt_res_vxdb': [(-0.5, 0.5), (0.0, 700)]\n",
    "}\n",
    "\n",
    "gev = {2: '0.5 GeV', 3: '1.0 GeV', 4: '10 GeV', 5: '50 GeV', 6: '100 GeV'}\n",
    "configs = {\n",
    "    'dPhi_pt_res_vxdb': [('pgun_mu_1per10k_6ptFalse_j{0:d}.root:FilterDL_VXDB/h_dPhi_layers_0_1'.format(j), 'p_{{T}} = {0:s}'.format(gev[j])) \n",
    "                      for j in [2,3,4,5,6]],\n",
    "    'dTheta_pt_res_vxdb': [('pgun_mu_1per10k_6ptFalse_j{0:d}.root:FilterDL_VXDB/h_dTheta_layers_0_1'.format(j), 'p_{{T}} = {0:s}'.format(gev[j])) \n",
    "                      for j in [2,3,4,5,6]]\n",
    "}"
   ]
  },
  {
   "cell_type": "markdown",
   "metadata": {},
   "source": [
    "#### Endcap"
   ]
  },
  {
   "cell_type": "code",
   "execution_count": 223,
   "metadata": {},
   "outputs": [],
   "source": [
    "styles = [1,1,1,1,1]\n",
    "colors = [16, 12, R.kAzure+7, R.kTeal+2, 2]\n",
    "rng = {\n",
    "    'dPhi_pt_res_vxde': [(-3.0, 3.0), (0.0, 700)],\n",
    "    'dTheta_pt_res_vxde': [(-0.5, 0.5), (0.0, 700)]\n",
    "}\n",
    "\n",
    "gev = {2: '0.5 GeV', 3: '1.0 GeV', 4: '10 GeV', 5: '50 GeV', 6: '100 GeV'}\n",
    "configs = {\n",
    "    'dPhi_pt_res_vxde': [('pgun_mu_1per10k_6ptFalse_j{0:d}.root:FilterDL_VXDE/h_dPhi_layers_0_1'.format(j), 'p_{{T}} = {0:s}'.format(gev[j])) \n",
    "                      for j in [2,3,4,5,6]],\n",
    "    'dTheta_pt_res_vxde': [('pgun_mu_1per10k_6ptFalse_j{0:d}.root:FilterDL_VXDE/h_dTheta_layers_0_1'.format(j), 'p_{{T}} = {0:s}'.format(gev[j])) \n",
    "                      for j in [2,3,4,5,6]]\n",
    "}"
   ]
  },
  {
   "cell_type": "markdown",
   "metadata": {},
   "source": [
    "#### Outer layers"
   ]
  },
  {
   "cell_type": "code",
   "execution_count": 184,
   "metadata": {},
   "outputs": [],
   "source": [
    "styles = [1,1,1,1,1]\n",
    "colors = [16, 12, R.kAzure+7, R.kTeal+2, 2]\n",
    "rng = {\n",
    "    'dPhi_pt_res_l67_vxdb': [(-3.0, 3.0), (0.0, 1000)],\n",
    "    'dTheta_pt_res_l67_vxdb': [(-0.5, 0.5), (0.0, 700)]\n",
    "}\n",
    "\n",
    "gev = {2: '0.5 GeV', 3: '1.0 GeV', 4: '10 GeV', 5: '50 GeV', 6: '100 GeV'}\n",
    "configs = {\n",
    "    'dPhi_pt_res_l67_vxdb': [('pgun_mu_1per10k_6ptFalse_j{0:d}.root:FilterDL_VXDB/h_dPhi_layers_6_7'.format(j), 'p_{{T}} = {0:s}'.format(gev[j])) \n",
    "                      for j in [2,3,4,5,6]],\n",
    "    'dTheta_pt_res_l67_vxdb': [('pgun_mu_1per10k_6ptFalse_j{0:d}.root:FilterDL_VXDB/h_dTheta_layers_6_7'.format(j), 'p_{{T}} = {0:s}'.format(gev[j])) \n",
    "                      for j in [2,3,4,5,6]]\n",
    "}"
   ]
  },
  {
   "cell_type": "markdown",
   "metadata": {},
   "source": [
    "### Effect of smeared beamspot"
   ]
  },
  {
   "cell_type": "code",
   "execution_count": 52,
   "metadata": {},
   "outputs": [],
   "source": [
    "styles = [1,1,1,1,1]\n",
    "colors = [12, R.kAzure+7, 2]\n",
    "rng = {\n",
    "    'dPhi_p_res_bs_vxdb': [(-3.0, 3.0), (0.0, 700)],\n",
    "    'dTheta_p_res_bs_vxdb': [(-30.0, 30.0), (0.0, 300)]\n",
    "}\n",
    "\n",
    "gev = {1: '1.0 GeV', 10: '10 GeV', 100: '100 GeV'}\n",
    "configs = {\n",
    "    'dPhi_p_res_bs_vxdb': [('real_bs/muon_p{0:d}_theta8-172_100kEvt_simFalse_j1.root:FilterDL_VXDB/h_dPhi_layers_0_1'.format(j), 'p = {0:s}'.format(gev[j])) \n",
    "                      for j in [1,10,100]],\n",
    "    'dTheta_p_res_bs_vxdb': [('real_bs/muon_p{0:d}_theta8-172_100kEvt_simFalse_j1.root:FilterDL_VXDB/h_dTheta_layers_0_1'.format(j), 'p = {0:s}'.format(gev[j])) \n",
    "                      for j in [1,10,100]]\n",
    "}"
   ]
  },
  {
   "cell_type": "markdown",
   "metadata": {},
   "source": [
    "#### Endcap"
   ]
  },
  {
   "cell_type": "code",
   "execution_count": 257,
   "metadata": {},
   "outputs": [],
   "source": [
    "styles = [1,1,1,1,1]\n",
    "colors = [12, R.kAzure+7, 2]\n",
    "rng = {\n",
    "    'dPhi_p_res_bs_vxde': [(-3.0, 3.0), (0.0, 600)],\n",
    "    'dTheta_p_res_bs_vxde': [(-5.0, 5.0), (0.0, 300)]\n",
    "}\n",
    "\n",
    "gev = {1: '1.0 GeV', 10: '10 GeV', 100: '100 GeV'}\n",
    "configs = {\n",
    "    'dPhi_p_res_bs_vxde': [('real_bs/muon_p{0:d}_theta8-172_100kEvt_simFalse_j1.root:FilterDL_VXDE/h_dPhi_layers_0_1'.format(j), 'p = {0:s}'.format(gev[j])) \n",
    "                      for j in [1,10,100]],\n",
    "    'dTheta_p_res_bs_vxde': [('real_bs/muon_p{0:d}_theta8-172_100kEvt_simFalse_j1.root:FilterDL_VXDE/h_dTheta_layers_0_1'.format(j), 'p = {0:s}'.format(gev[j])) \n",
    "                      for j in [1,10,100]]\n",
    "}"
   ]
  },
  {
   "cell_type": "markdown",
   "metadata": {},
   "source": [
    "#### Outer layers"
   ]
  },
  {
   "cell_type": "code",
   "execution_count": 212,
   "metadata": {},
   "outputs": [],
   "source": [
    "styles = [1,1,1,1,1]\n",
    "colors = [12, R.kAzure+7, 2]\n",
    "rng = {\n",
    "    'dPhi_p_res_bs_l67_vxdb': [(-3.0, 3.0), (0.0, 1000)],\n",
    "    'dTheta_p_res_bs_l67_vxdb': [(-30.0, 30.0), (0.0, 1000)]\n",
    "}\n",
    "\n",
    "gev = {1: '1.0 GeV', 10: '10 GeV', 100: '100 GeV'}\n",
    "configs = {\n",
    "    'dPhi_p_res_bs_l67_vxdb': [('real_bs/muon_p{0:d}_theta8-172_100kEvt_simFalse_j1.root:FilterDL_VXDB/h_dPhi_layers_6_7'.format(j), 'p = {0:s}'.format(gev[j])) \n",
    "                      for j in [1,10,100]],\n",
    "    'dTheta_p_res_bs_l67_vxdb': [('real_bs/muon_p{0:d}_theta8-172_100kEvt_simFalse_j1.root:FilterDL_VXDB/h_dTheta_layers_6_7'.format(j), 'p = {0:s}'.format(gev[j])) \n",
    "                      for j in [1,10,100]]\n",
    "}"
   ]
  },
  {
   "cell_type": "markdown",
   "metadata": {},
   "source": [
    "#### Outer Endcap layers"
   ]
  },
  {
   "cell_type": "code",
   "execution_count": 371,
   "metadata": {},
   "outputs": [],
   "source": [
    "styles = [1,1,1,1,1]\n",
    "colors = [12, R.kAzure+7, 2]\n",
    "rng = {\n",
    "    'dPhi_p_res_bs_l67_vxde': [(-3.0, 3.0), (0.0, 300)],\n",
    "    'dTheta_p_res_bs_l67_vxde': [(-5.0, 5.0), (0.0, 200)]\n",
    "}\n",
    "\n",
    "gev = {1: '1.0 GeV', 10: '10 GeV', 100: '100 GeV'}\n",
    "configs = {\n",
    "    'dPhi_p_res_bs_l67_vxde': [('real_bs/muon_p{0:d}_theta8-172_100kEvt_simFalse_j1.root:FilterDL_VXDE/h_dPhi_layers_6_7'.format(j), 'p = {0:s}'.format(gev[j])) \n",
    "                      for j in [1,10,100]],\n",
    "    'dTheta_p_res_bs_l67_vxde': [('real_bs/muon_p{0:d}_theta8-172_100kEvt_simFalse_j1.root:FilterDL_VXDE/h_dTheta_layers_6_7'.format(j), 'p = {0:s}'.format(gev[j])) \n",
    "                      for j in [1,10,100]]\n",
    "}"
   ]
  },
  {
   "cell_type": "markdown",
   "metadata": {},
   "source": [
    "### Final distributions for cut definitions  with beamspot"
   ]
  },
  {
   "cell_type": "code",
   "execution_count": 6,
   "metadata": {},
   "outputs": [],
   "source": [
    "styles = [1,1,1,1]\n",
    "colors = [12, R.kAzure+7, R.kTeal+2, 2]\n",
    "rng = {\n",
    "    'dPhi_layers_res_bs_vxdb': [(-3.5, 3.5), (0.0, 400)],\n",
    "    'dTheta_layers_res_bs_vxdb': [(-30., 30.), (0.0, 400)]\n",
    "}\n",
    "    \n",
    "configs = {\n",
    "    'dPhi_layers_res_bs_vxdb': [('real_bs/muon_p1_theta8-172_100kEvt_simFalse_j1.root:FilterDL_VXDB/h_dPhi_layers_'+l, 'Layers '+l.replace('_', '-')) \n",
    "                      for l in ['0_1', '2_3', '4_5', '6_7']],\n",
    "    'dTheta_layers_res_bs_vxdb': [('real_bs/muon_p1_theta8-172_100kEvt_simFalse_j1.root:FilterDL_VXDB/h_dTheta_layers_'+l, 'Layers '+l.replace('_', '-')) \n",
    "                      for l in ['0_1', '2_3', '4_5', '6_7']]\n",
    "}"
   ]
  },
  {
   "cell_type": "markdown",
   "metadata": {},
   "source": [
    "#### Endcap"
   ]
  },
  {
   "cell_type": "code",
   "execution_count": 292,
   "metadata": {},
   "outputs": [],
   "source": [
    "styles = [1,1,1,1]\n",
    "colors = [12, R.kAzure+7, R.kTeal+2, 2]\n",
    "post = '_layers_res_bs_vxde'\n",
    "rng = {\n",
    "    'dPhi'+post: [(-3., 3.5), (0.0, 300)],\n",
    "    'dTheta'+post: [(-5., 5.), (0.0, 800)]\n",
    "}\n",
    "    \n",
    "configs = {\n",
    "    'dPhi'+post: [('real_bs/muon_p1_theta8-172_100kEvt_simFalse_j1.root:FilterDL_VXDE/h_dPhi_layers_'+l, 'Layers '+l.replace('_', '-')) \n",
    "                      for l in ['0_1', '2_3', '4_5', '6_7']],\n",
    "    'dTheta'+post: [('real_bs/muon_p1_theta8-172_100kEvt_simFalse_j1.root:FilterDL_VXDE/h_dTheta_layers_'+l, 'Layers '+l.replace('_', '-')) \n",
    "                      for l in ['0_1', '2_3', '4_5', '6_7']]\n",
    "}"
   ]
  },
  {
   "cell_type": "markdown",
   "metadata": {},
   "source": [
    "### Final distributions for cut definitions without beamspot"
   ]
  },
  {
   "cell_type": "code",
   "execution_count": 28,
   "metadata": {},
   "outputs": [],
   "source": [
    "styles = [1,1,1,1]\n",
    "colors = [12, R.kAzure+7, R.kTeal+2, 2]\n",
    "post = '_layers_res_vxdb'\n",
    "rng = {\n",
    "    'dPhi'+post: [(-2.5, 2.5), (0.0, 600)],\n",
    "    'dTheta'+post: [(-0.6, 0.6-0.001), (0.0, 600)]\n",
    "}\n",
    "    \n",
    "configs = {\n",
    "    'dPhi'+post: [('pgun_mu_1per10k_3ptFalse_v0_j1.root:FilterDLl_VXDB/h_dPhi_layers_'+l, 'Layers '+l.replace('_', '-')) \n",
    "                      for l in ['0_1', '2_3', '4_5', '6_7']],\n",
    "    'dTheta'+post: [('pgun_mu_1per10k_3ptFalse_v0_j1.root:FilterDLl_VXDB/h_dTheta_layers_'+l, 'Layers '+l.replace('_', '-')) \n",
    "                      for l in ['0_1', '2_3', '4_5', '6_7']]\n",
    "}"
   ]
  },
  {
   "cell_type": "markdown",
   "metadata": {},
   "source": [
    "#### Endcap"
   ]
  },
  {
   "cell_type": "code",
   "execution_count": 395,
   "metadata": {},
   "outputs": [],
   "source": [
    "styles = [1,1,1,1]\n",
    "colors = [12, R.kAzure+7, R.kTeal+2, 2]\n",
    "post = '_layers_res_vxde'\n",
    "rng = {\n",
    "    'dPhi'+post: [(-3., 3.5), (0.0, 200)],\n",
    "    'dTheta'+post: [(-0.4, 0.4), (0.0, 600)]\n",
    "}\n",
    "    \n",
    "configs = {\n",
    "    'dPhi'+post: [('pgun_mu_1per10k_6pFalse_dPhiCut_j3.root:FilterDL_VXDE/h_dPhi_layers_'+l, 'Layers '+l.replace('_', '-')) \n",
    "                      for l in ['0_1', '2_3', '4_5', '6_7']],\n",
    "    'dTheta'+post: [('pgun_mu_1per10k_6pFalse_dPhiCut_j3.root:FilterDL_VXDE/h_dTheta_layers_'+l, 'Layers '+l.replace('_', '-')) \n",
    "                      for l in ['0_1', '2_3', '4_5', '6_7']]\n",
    "}"
   ]
  },
  {
   "cell_type": "markdown",
   "metadata": {},
   "source": [
    "### BIB distributions"
   ]
  },
  {
   "cell_type": "code",
   "execution_count": 332,
   "metadata": {},
   "outputs": [],
   "source": [
    "styles = [1,1,1,1]\n",
    "colors = [12, R.kAzure+7, R.kTeal+2, 2]\n",
    "post = '_layers_res_bs_vxdb_bib'\n",
    "rng = {\n",
    "    'dPhi'+post: [(-30.0, 30.0), (0.0, 600)],\n",
    "    'dTheta'+post: [(-30., 30.), (0.0, 1500)]\n",
    "}\n",
    "    \n",
    "configs = {\n",
    "    'dPhi'+post: [('real_bs/muon_p1_theta8-172_100kEvt_simBIBTrimmed_j1.root:FilterDL_VXDB/h_dPhi_layers_'+l, 'Layers '+l.replace('_', '-')) \n",
    "                      for l in ['0_1', '2_3', '4_5', '6_7']],\n",
    "    'dTheta'+post: [('real_bs/muon_p1_theta8-172_100kEvt_simBIBTrimmed_j1.root:FilterDL_VXDB/h_dTheta_layers_'+l, 'Layers '+l.replace('_', '-')) \n",
    "                      for l in ['0_1', '2_3', '4_5', '6_7']]\n",
    "}"
   ]
  },
  {
   "cell_type": "markdown",
   "metadata": {},
   "source": [
    "### Drawing the histograms"
   ]
  },
  {
   "cell_type": "code",
   "execution_count": 31,
   "metadata": {},
   "outputs": [],
   "source": [
    "def draw_labels(canv):\n",
    "    scale = 800/600\n",
    "#     scale = 600.0/800\n",
    "    lumiTextSize = 0.6 * scale\n",
    "    lumiTextOffset = 0.2 * scale\n",
    "    muCTextSize = 0.75 * scale\n",
    "    muCTextOffset = 0.1 * scale\n",
    "    relPosX = 0.045 * scale\n",
    "    relPosY = 0.035 * scale\n",
    "    relExtraText = 1.2\n",
    "\n",
    "    l = canv.GetLeftMargin()\n",
    "    t = canv.GetTopMargin()\n",
    "    r = canv.GetRightMargin()\n",
    "    b = canv.GetBottomMargin()\n",
    "\n",
    "    latex = R.TLatex()\n",
    "    latex.SetNDC()\n",
    "    latex.SetTextAngle(0)\n",
    "    latex.SetTextColor(R.kBlack)\n",
    "    extraTextSize = 0.76*muCTextSize\n",
    "    latex.SetTextFont(42)\n",
    "    latex.SetTextAlign(31)\n",
    "    latex.SetTextSize(lumiTextSize*t)\n",
    "    latex.DrawLatex(1-r, 1-t+lumiTextOffset*t, \"#sqrt{s}=1.5 TeV\")\n",
    "    posX_=   l + relPosX*(1-l-r);\n",
    "    posY_ = 1-t - relPosY*(1-t-b)\n",
    "    latex.SetTextFont(61)\n",
    "    latex.SetTextSize(muCTextSize*t)\n",
    "    latex.SetTextAlign(13)\n",
    "    latex.DrawLatex(posX_, posY_, \"Muon Collider\")\n",
    "    latex.SetTextFont(52)\n",
    "    latex.SetTextAlign(13)\n",
    "    latex.SetTextSize(extraTextSize*t)\n",
    "    latex.DrawLatex(posX_, posY_ - relExtraText*muCTextSize*t, \"Simulation\")"
   ]
  },
  {
   "cell_type": "code",
   "execution_count": 83,
   "metadata": {},
   "outputs": [
    {
     "name": "stdout",
     "output_type": "stream",
     "text": [
      "0\n",
      "1\n",
      "2\n",
      "0\n",
      "1\n"
     ]
    },
    {
     "name": "stderr",
     "output_type": "stream",
     "text": [
      "Warning in <TCanvas::Constructor>: Deleting canvas with same name: c_dPhi_pt_bs_vxdb\n",
      "Info in <TCanvas::Print>: pdf file /Users/nbartosi/cernbox/work/mu_collider/snowmass_2022/plots/dPhi_pt_bs_vxdb.pdf has been created\n",
      "Warning in <TCanvas::Constructor>: Deleting canvas with same name: c_dTheta_pt_bs_vxdb\n",
      "Info in <TCanvas::Print>: pdf file /Users/nbartosi/cernbox/work/mu_collider/snowmass_2022/plots/dTheta_pt_bs_vxdb.pdf has been created\n"
     ]
    },
    {
     "data": {
      "image/png": "[encoded data removed]",
      "text/plain": [
       "<IPython.core.display.Image object>"
      ]
     },
     "metadata": {},
     "output_type": "display_data"
    },
    {
     "data": {
      "image/png": "[encoded data removed]",
      "text/plain": [
       "<IPython.core.display.Image object>"
      ]
     },
     "metadata": {},
     "output_type": "display_data"
    }
   ],
   "source": [
    "DIR_IN = '/Users/nbartosi/pdc/muoncdata/users/bartosik/clic/studies/2020_12_22_tracking/digi'\n",
    "DIR_OUT = '/Users/nbartosi/cernbox/work/mu_collider/snowmass_2022/'\n",
    "for out_name, config in configs.items():\n",
    "    histos = {}\n",
    "    for iC, conf in enumerate(config):\n",
    "        file_name, histo_path = conf[0].split(':')\n",
    "        histo_folder, histo_name = histo_path.split('/')\n",
    "        fIn = R.TFile(os.path.join(DIR_IN, file_name))\n",
    "        fIn.cd(histo_folder)\n",
    "        h = R.gDirectory.Get(histo_name).Clone()\n",
    "        h.SetDirectory(0)\n",
    "        R.SetOwnership(h, False)\n",
    "        h.SetLineWidth(2)\n",
    "        h.SetLineColor(colors[iC])\n",
    "        h.SetLineStyle(styles[iC])\n",
    "#         h.GetYaxis().SetTitle('Normalized hit pairs')\n",
    "#         h.Scale(1e4/h.GetEntries())\n",
    "        if histo_name.startswith('h_dPhi'):\n",
    "            h.GetXaxis().SetTitle('#Delta#phi [mrad]')\n",
    "            h.Rebin(2)\n",
    "#         else:\n",
    "#             h.Rebin(50)\n",
    "#             h.Rebin(20)\n",
    "#             h.Rebin(5)\n",
    "#         h.Rebin(20)\n",
    "        if out_name == 'dTheta_pt_bs_vxdb':\n",
    "            h.Rebin(4)\n",
    "        histos[iC] = h\n",
    "        fIn.Close()\n",
    "    C = R.TCanvas('c_'+out_name, '', 800,800)\n",
    "    R.SetOwnership(C, False)\n",
    "    C.SetRightMargin(0.05)\n",
    "    C.SetLeftMargin(0.15)\n",
    "    C.SetTopMargin(0.05)\n",
    "#     C.SetGrid(1,1)\n",
    "    R.gStyle.SetOptStat(0)\n",
    "    R.gStyle.SetGridColor(16)\n",
    "    C.Clear()\n",
    "    if out_name == 'dTheta_pt_bs_vxdb':\n",
    "        C.SetLogy()\n",
    "    leg = R.TLegend(0.75,0.95-0.07*len(histos),0.95,0.95)\n",
    "    leg.SetTextSize(0.03)\n",
    "#     leg.SetFillColor(19)\n",
    "    leg.SetMargin(0.1)\n",
    "    # leg.SetFillStyle(0)\n",
    "    # leg.SetLineWidth(0)\n",
    "    # leg.SetNColumns(4)\n",
    "    for iC, h in histos.items():\n",
    "        if iC == 0:\n",
    "            h.SetAxisRange(rng[out_name][0][0], rng[out_name][0][1], 'X')\n",
    "            h.SetAxisRange(rng[out_name][1][0], rng[out_name][1][1], 'Y')\n",
    "            h.Draw('AXIS')\n",
    "            h.Draw('AXIG same')\n",
    "        h.Draw('HISTsame')\n",
    "        print(iC)\n",
    "        leg.AddEntry(h, config[iC][1], '').SetTextColor(colors[iC])\n",
    "    leg.Draw()\n",
    "    C.RedrawAxis()\n",
    "    draw_labels(C)\n",
    "    C.Draw()\n",
    "    C.SaveAs(os.path.join(DIR_OUT, 'plots/', out_name+'.pdf'))"
   ]
  },
  {
   "cell_type": "code",
   "execution_count": 244,
   "metadata": {},
   "outputs": [
    {
     "ename": "NameError",
     "evalue": "name 'h_occup' is not defined",
     "output_type": "error",
     "traceback": [
      "\u001b[0;31m---------------------------------------------------------------------------\u001b[0m",
      "\u001b[0;31mNameError\u001b[0m                                 Traceback (most recent call last)",
      "\u001b[0;32m<ipython-input-244-05d0b16fd22e>\u001b[0m in \u001b[0;36m<module>\u001b[0;34m\u001b[0m\n\u001b[1;32m      9\u001b[0m \u001b[0mh_ax\u001b[0m \u001b[0;34m=\u001b[0m \u001b[0;32mNone\u001b[0m\u001b[0;34m\u001b[0m\u001b[0;34m\u001b[0m\u001b[0m\n\u001b[1;32m     10\u001b[0m \u001b[0;32mfor\u001b[0m \u001b[0miH\u001b[0m\u001b[0;34m,\u001b[0m \u001b[0mpitch\u001b[0m \u001b[0;32min\u001b[0m \u001b[0menumerate\u001b[0m\u001b[0;34m(\u001b[0m\u001b[0;34m[\u001b[0m\u001b[0;36m25\u001b[0m\u001b[0;34m,\u001b[0m\u001b[0;36m50\u001b[0m\u001b[0;34m,\u001b[0m\u001b[0;36m100\u001b[0m\u001b[0;34m,\u001b[0m\u001b[0;36m200\u001b[0m\u001b[0;34m]\u001b[0m\u001b[0;34m)\u001b[0m\u001b[0;34m:\u001b[0m\u001b[0;34m\u001b[0m\u001b[0;34m\u001b[0m\u001b[0m\n\u001b[0;32m---> 11\u001b[0;31m     \u001b[0mh\u001b[0m \u001b[0;34m=\u001b[0m \u001b[0mh_occup\u001b[0m\u001b[0;34m[\u001b[0m\u001b[0mpitch\u001b[0m\u001b[0;34m]\u001b[0m\u001b[0;34m\u001b[0m\u001b[0;34m\u001b[0m\u001b[0m\n\u001b[0m\u001b[1;32m     12\u001b[0m     \u001b[0;32mif\u001b[0m \u001b[0miH\u001b[0m \u001b[0;34m==\u001b[0m \u001b[0;36m0\u001b[0m\u001b[0;34m:\u001b[0m\u001b[0;34m\u001b[0m\u001b[0;34m\u001b[0m\u001b[0m\n\u001b[1;32m     13\u001b[0m         \u001b[0mh_ax\u001b[0m \u001b[0;34m=\u001b[0m \u001b[0mh\u001b[0m\u001b[0;34m\u001b[0m\u001b[0;34m\u001b[0m\u001b[0m\n",
      "\u001b[0;31mNameError\u001b[0m: name 'h_occup' is not defined"
     ]
    }
   ],
   "source": [
    "colors = {25: R.kGray+2, 50: R.kPink-4, 100: R.kAzure+1, 200: R.kSpring-6}\n",
    "C = R.TCanvas('c2', '', 800,800)\n",
    "C.SetLeftMargin(0.15)\n",
    "C.SetGrid(1,1)\n",
    "R.gStyle.SetOptStat(0)\n",
    "C.Clear()\n",
    "leg = R.TLegend(0.3,0.8,0.9,0.9)\n",
    "leg.SetNColumns(2)\n",
    "h_ax = None\n",
    "for iH, pitch in enumerate([25,50,100,200]):\n",
    "    h = h_occup[pitch]\n",
    "    if iH == 0:\n",
    "        h_ax = h\n",
    "        h.SetAxisRange(0.01, 50, 'Y')\n",
    "    drawopt = '' if iH == 0 else 'same'\n",
    "    h.SetLineColor(colors[pitch])\n",
    "    h.SetLineWidth(2)\n",
    "    h.Draw(drawopt)\n",
    "    leg.AddEntry(h, '{0:d} #times {0:d} #mum^{{2}}'.format(pitch), 'L')\n",
    "h_ax.Draw(\"AXIG same\")\n",
    "# Drawing line\n",
    "line = R.TLine(8,0,8,10)\n",
    "line.SetLineColor(1)\n",
    "line.SetLineWidth(2)\n",
    "line.Draw()\n",
    "# Drawing text\n",
    "tb = R.TText(4, 2e-2, 'VTX Barrel')\n",
    "tb.SetTextAlign(22)\n",
    "tb.SetTextColor(R.kGray+1)\n",
    "tb.Draw()\n",
    "te = R.TText(12, 2e-2, 'VTX Endcap')\n",
    "te.SetTextAlign(22)\n",
    "te.SetTextColor(R.kPink+1)\n",
    "te.Draw()\n",
    "leg.Draw()\n",
    "C.SetLogy()\n",
    "C.Draw()\n",
    "C.SaveAs(os.path.join(DIR_IN, 'plots/sensor_occupancy_vtx.pdf'))"
   ]
  },
  {
   "cell_type": "code",
   "execution_count": null,
   "metadata": {},
   "outputs": [],
   "source": []
  },
  {
   "cell_type": "code",
   "execution_count": 201,
   "metadata": {},
   "outputs": [
    {
     "data": {
      "text/plain": [
       "40000.0"
      ]
     },
     "execution_count": 201,
     "metadata": {},
     "output_type": "execute_result"
    }
   ],
   "source": [
    "1.0/(50*50*1e-8)"
   ]
  },
  {
   "cell_type": "code",
   "execution_count": null,
   "metadata": {},
   "outputs": [],
   "source": []
  }
 ],
 "metadata": {
  "kernelspec": {
   "display_name": "Python 3",
   "language": "python",
   "name": "python3"
  },
  "language_info": {
   "codemirror_mode": {
    "name": "ipython",
    "version": 3
   },
   "file_extension": ".py",
   "mimetype": "text/x-python",
   "name": "python",
   "nbconvert_exporter": "python",
   "pygments_lexer": "ipython3",
   "version": "3.8.4"
  }
 },
 "nbformat": 4,
 "nbformat_minor": 4
}
